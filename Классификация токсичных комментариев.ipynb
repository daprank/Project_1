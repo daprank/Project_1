{
 "cells": [
  {
   "cell_type": "markdown",
   "metadata": {},
   "source": [
    "# Проект по созданию модели классификации токсичного текста\n",
    "\n",
    "В данном проекте с использованием данных 160 000 заранее размеченных комментариев мы подготовим модель, которая позволит классифицировать комментарии пользователей \"Викишоп\" как токсичные. Предполагается, что на основе этого инструмента, токсичные комментарии будут отправляться на модерацию."
   ]
  },
  {
   "cell_type": "code",
   "execution_count": 9,
   "metadata": {},
   "outputs": [
    {
     "name": "stderr",
     "output_type": "stream",
     "text": [
      "[nltk_data] Downloading package stopwords to\n",
      "[nltk_data]     /Users/semionkaminsky/nltk_data...\n",
      "[nltk_data]   Package stopwords is already up-to-date!\n",
      "[nltk_data] Downloading package wordnet to\n",
      "[nltk_data]     /Users/semionkaminsky/nltk_data...\n",
      "[nltk_data]   Package wordnet is already up-to-date!\n",
      "[nltk_data] Downloading package punkt to\n",
      "[nltk_data]     /Users/semionkaminsky/nltk_data...\n",
      "[nltk_data]   Package punkt is already up-to-date!\n"
     ]
    }
   ],
   "source": [
    "import pandas as pd\n",
    "import numpy as np\n",
    "import matplotlib.pyplot as plt\n",
    "from pymystem3 import Mystem\n",
    "from sklearn.base import BaseEstimator, TransformerMixin\n",
    "from sklearn.pipeline import Pipeline\n",
    "from sklearn.feature_extraction.text import TfidfVectorizer\n",
    "from sklearn.linear_model import LogisticRegression\n",
    "from sklearn.ensemble import RandomForestClassifier\n",
    "from sklearn.tree import DecisionTreeClassifier\n",
    "from lightgbm import LGBMClassifier\n",
    "from sklearn.model_selection import train_test_split, RandomizedSearchCV\n",
    "from sklearn.metrics import f1_score, make_scorer, accuracy_score\n",
    "from sklearn.utils import shuffle\n",
    "import re\n",
    "import nltk\n",
    "from textblob import TextBlob, Word\n",
    "from nltk.corpus import stopwords as nltk_stopwords\n",
    "nltk.download('stopwords')\n",
    "nltk.download('wordnet')\n",
    "nltk.download('punkt')\n",
    "stopwords = set(nltk_stopwords.words('english'))"
   ]
  },
  {
   "cell_type": "markdown",
   "metadata": {},
   "source": [
    "## Загрузка и осмотр данных"
   ]
  },
  {
   "cell_type": "code",
   "execution_count": 11,
   "metadata": {},
   "outputs": [],
   "source": [
    "try:\n",
    "    initial_df = pd.read_csv('toxic_comments.csv')\n",
    "except:\n",
    "    initial_df = pd.read_csv('/datasets/toxic_comments.csv')"
   ]
  },
  {
   "cell_type": "code",
   "execution_count": 12,
   "metadata": {},
   "outputs": [
    {
     "data": {
      "text/html": [
       "<div>\n",
       "<style scoped>\n",
       "    .dataframe tbody tr th:only-of-type {\n",
       "        vertical-align: middle;\n",
       "    }\n",
       "\n",
       "    .dataframe tbody tr th {\n",
       "        vertical-align: top;\n",
       "    }\n",
       "\n",
       "    .dataframe thead th {\n",
       "        text-align: right;\n",
       "    }\n",
       "</style>\n",
       "<table border=\"1\" class=\"dataframe\">\n",
       "  <thead>\n",
       "    <tr style=\"text-align: right;\">\n",
       "      <th></th>\n",
       "      <th>text</th>\n",
       "      <th>toxic</th>\n",
       "    </tr>\n",
       "  </thead>\n",
       "  <tbody>\n",
       "    <tr>\n",
       "      <th>0</th>\n",
       "      <td>Explanation\\nWhy the edits made under my usern...</td>\n",
       "      <td>0</td>\n",
       "    </tr>\n",
       "    <tr>\n",
       "      <th>1</th>\n",
       "      <td>D'aww! He matches this background colour I'm s...</td>\n",
       "      <td>0</td>\n",
       "    </tr>\n",
       "    <tr>\n",
       "      <th>2</th>\n",
       "      <td>Hey man, I'm really not trying to edit war. It...</td>\n",
       "      <td>0</td>\n",
       "    </tr>\n",
       "    <tr>\n",
       "      <th>3</th>\n",
       "      <td>\"\\nMore\\nI can't make any real suggestions on ...</td>\n",
       "      <td>0</td>\n",
       "    </tr>\n",
       "    <tr>\n",
       "      <th>4</th>\n",
       "      <td>You, sir, are my hero. Any chance you remember...</td>\n",
       "      <td>0</td>\n",
       "    </tr>\n",
       "    <tr>\n",
       "      <th>5</th>\n",
       "      <td>\"\\n\\nCongratulations from me as well, use the ...</td>\n",
       "      <td>0</td>\n",
       "    </tr>\n",
       "    <tr>\n",
       "      <th>6</th>\n",
       "      <td>COCKSUCKER BEFORE YOU PISS AROUND ON MY WORK</td>\n",
       "      <td>1</td>\n",
       "    </tr>\n",
       "    <tr>\n",
       "      <th>7</th>\n",
       "      <td>Your vandalism to the Matt Shirvington article...</td>\n",
       "      <td>0</td>\n",
       "    </tr>\n",
       "    <tr>\n",
       "      <th>8</th>\n",
       "      <td>Sorry if the word 'nonsense' was offensive to ...</td>\n",
       "      <td>0</td>\n",
       "    </tr>\n",
       "    <tr>\n",
       "      <th>9</th>\n",
       "      <td>alignment on this subject and which are contra...</td>\n",
       "      <td>0</td>\n",
       "    </tr>\n",
       "    <tr>\n",
       "      <th>10</th>\n",
       "      <td>\"\\nFair use rationale for Image:Wonju.jpg\\n\\nT...</td>\n",
       "      <td>0</td>\n",
       "    </tr>\n",
       "    <tr>\n",
       "      <th>11</th>\n",
       "      <td>bbq \\n\\nbe a man and lets discuss it-maybe ove...</td>\n",
       "      <td>0</td>\n",
       "    </tr>\n",
       "    <tr>\n",
       "      <th>12</th>\n",
       "      <td>Hey... what is it..\\n@ | talk .\\nWhat is it......</td>\n",
       "      <td>1</td>\n",
       "    </tr>\n",
       "    <tr>\n",
       "      <th>13</th>\n",
       "      <td>Before you start throwing accusations and warn...</td>\n",
       "      <td>0</td>\n",
       "    </tr>\n",
       "    <tr>\n",
       "      <th>14</th>\n",
       "      <td>Oh, and the girl above started her arguments w...</td>\n",
       "      <td>0</td>\n",
       "    </tr>\n",
       "    <tr>\n",
       "      <th>15</th>\n",
       "      <td>\"\\n\\nJuelz Santanas Age\\n\\nIn 2002, Juelz Sant...</td>\n",
       "      <td>0</td>\n",
       "    </tr>\n",
       "    <tr>\n",
       "      <th>16</th>\n",
       "      <td>Bye! \\n\\nDon't look, come or think of comming ...</td>\n",
       "      <td>1</td>\n",
       "    </tr>\n",
       "    <tr>\n",
       "      <th>17</th>\n",
       "      <td>REDIRECT Talk:Voydan Pop Georgiev- Chernodrinski</td>\n",
       "      <td>0</td>\n",
       "    </tr>\n",
       "    <tr>\n",
       "      <th>18</th>\n",
       "      <td>The Mitsurugi point made no sense - why not ar...</td>\n",
       "      <td>0</td>\n",
       "    </tr>\n",
       "    <tr>\n",
       "      <th>19</th>\n",
       "      <td>Don't mean to bother you \\n\\nI see that you're...</td>\n",
       "      <td>0</td>\n",
       "    </tr>\n",
       "  </tbody>\n",
       "</table>\n",
       "</div>"
      ],
      "text/plain": [
       "                                                 text  toxic\n",
       "0   Explanation\\nWhy the edits made under my usern...      0\n",
       "1   D'aww! He matches this background colour I'm s...      0\n",
       "2   Hey man, I'm really not trying to edit war. It...      0\n",
       "3   \"\\nMore\\nI can't make any real suggestions on ...      0\n",
       "4   You, sir, are my hero. Any chance you remember...      0\n",
       "5   \"\\n\\nCongratulations from me as well, use the ...      0\n",
       "6        COCKSUCKER BEFORE YOU PISS AROUND ON MY WORK      1\n",
       "7   Your vandalism to the Matt Shirvington article...      0\n",
       "8   Sorry if the word 'nonsense' was offensive to ...      0\n",
       "9   alignment on this subject and which are contra...      0\n",
       "10  \"\\nFair use rationale for Image:Wonju.jpg\\n\\nT...      0\n",
       "11  bbq \\n\\nbe a man and lets discuss it-maybe ove...      0\n",
       "12  Hey... what is it..\\n@ | talk .\\nWhat is it......      1\n",
       "13  Before you start throwing accusations and warn...      0\n",
       "14  Oh, and the girl above started her arguments w...      0\n",
       "15  \"\\n\\nJuelz Santanas Age\\n\\nIn 2002, Juelz Sant...      0\n",
       "16  Bye! \\n\\nDon't look, come or think of comming ...      1\n",
       "17   REDIRECT Talk:Voydan Pop Georgiev- Chernodrinski      0\n",
       "18  The Mitsurugi point made no sense - why not ar...      0\n",
       "19  Don't mean to bother you \\n\\nI see that you're...      0"
      ]
     },
     "metadata": {},
     "output_type": "display_data"
    },
    {
     "name": "stdout",
     "output_type": "stream",
     "text": [
      "\n",
      "Частота классов\n"
     ]
    },
    {
     "data": {
      "text/plain": [
       "0    143346\n",
       "1     16225\n",
       "Name: toxic, dtype: int64"
      ]
     },
     "metadata": {},
     "output_type": "display_data"
    },
    {
     "data": {
      "image/png": "[encoded data removed]",
      "text/plain": [
       "<Figure size 720x432 with 1 Axes>"
      ]
     },
     "metadata": {
      "needs_background": "light"
     },
     "output_type": "display_data"
    }
   ],
   "source": [
    "display(initial_df.head(20))\n",
    "print()\n",
    "print('Частота классов')\n",
    "display(initial_df['toxic'].value_counts())\n",
    "\n",
    "plt.figure(figsize = (10, 6))\n",
    "plt.hist(initial_df['toxic'])\n",
    "plt.title('Исследование на баланс классов')\n",
    "plt.xlabel('Значение класса')\n",
    "plt.ylabel('Частота')\n",
    "plt.show()"
   ]
  },
  {
   "cell_type": "markdown",
   "metadata": {},
   "source": [
    "### Комментарий\n",
    "Да уж, некоторые токсичные комментарии сразу бросаются в глаза...\n",
    "\n",
    "Также, видим значимый дисбаланс классов: токсичные составляют порядка 10% выборки. Обратим на это внимание при подготовке данных."
   ]
  },
  {
   "cell_type": "markdown",
   "metadata": {},
   "source": [
    "## Подготовка признаков\n",
    "1. [x] Апсемплинг негативных комментариев в 8 раз\n",
    "2. [x] Лемматизация, очистка, разделение выборки и создание признаков векторов TfIdf\n"
   ]
  },
  {
   "cell_type": "code",
   "execution_count": 13,
   "metadata": {},
   "outputs": [],
   "source": [
    "# выполним лемматизацию\n",
    "class Lemmatizer(BaseEstimator, TransformerMixin):\n",
    "    def __init__(self):\n",
    "        return None\n",
    "    def fit(self, data):\n",
    "        return self\n",
    "    def lemmatize(self, row):\n",
    "        sentence = row\n",
    "        sent = TextBlob(sentence)\n",
    "        return ' '. join([w.lemmatize() for w in sent.words])\n",
    "    def transform(self, data):\n",
    "        return data.apply(self.lemmatize)\n",
    "\n",
    "# очистим от знаков и лишних пробелов\n",
    "class Clearer(BaseEstimator, TransformerMixin):\n",
    "    def __init__(self, sub = r'A-Za-z'):\n",
    "        self.sub = sub\n",
    "        return None\n",
    "    def fit(self, data):\n",
    "        return self\n",
    "    def clear(self, row):\n",
    "        cleared = re.sub(self.sub, ' ', row).split()\n",
    "        return ' '.join(cleared)\n",
    "    def transform(self, data):\n",
    "        return data.apply(self.clear)\n",
    "    \n",
    "# поделим выборку, не забудем сохранить индексы тестовой и обучающей выборок    \n",
    "class Splitter(BaseEstimator, TransformerMixin):\n",
    "    def __init__(self, test_size):\n",
    "        self.test_size = test_size\n",
    "        return None\n",
    "    def fit(self, data):\n",
    "        return self\n",
    "    def transform(self, data):\n",
    "        train, test = train_test_split(data, random_state = 42, test_size = self.test_size)\n",
    "        return [train, test, train.index, test.index]\n",
    "    \n",
    "class Upsampler(BaseEstimator, TransformerMixin):\n",
    "    def __init__(self, target, repeat):\n",
    "        self.target = target\n",
    "        self.repeat = repeat\n",
    "        return None\n",
    "    def fit(self, train_test_list):\n",
    "        return self\n",
    "    def upsample(self, features, target, repeat):\n",
    "        features_zeros = features[target == 0]\n",
    "        features_ones = features[target == 1]\n",
    "        target_zeros = target[target == 0]\n",
    "        target_ones = target[target == 1]\n",
    "\n",
    "        features_upsampled = pd.concat([features_zeros] + [features_ones] * repeat)\n",
    "        target_upsampled = pd.concat([target_zeros] + [target_ones] * repeat)\n",
    "    \n",
    "        features_upsampled, target_upsampled = shuffle(features_upsampled, target_upsampled, random_state = 42)\n",
    "    \n",
    "        return features_upsampled, target_upsampled\n",
    "\n",
    "    def transform(self, train_test_list):\n",
    "        features_train = train_test_list[0]\n",
    "        target_train = self.target.iloc[train_test_list[2]]\n",
    "        features_train, target_train = self.upsample(features_train, target_train, self.repeat)\n",
    "        features_test, target_test = train_test_list[1], self.target.iloc[train_test_list[3]]\n",
    "        return [features_train.reset_index(drop = True), features_test.reset_index(drop = True), target_train.reset_index(drop = True), target_test.reset_index(drop = True)]\n",
    "        \n",
    "    \n",
    "# переведем строки в векторы с помощью TfIdf\n",
    "class TfIdf(BaseEstimator, TransformerMixin):\n",
    "    def __init__(self):\n",
    "        return None\n",
    "    def fit(self, train_test_list):\n",
    "        return self\n",
    "    def transform(self, train_test_list):\n",
    "        tf_idf = TfidfVectorizer(stop_words = stopwords)\n",
    "        tf_idf.fit(train_test_list[0])\n",
    "        features_train = tf_idf.transform(train_test_list[0])\n",
    "        features_test = tf_idf.transform(train_test_list[1])\n",
    "        target_train = train_test_list[2]\n",
    "        target_test = train_test_list[3]\n",
    "        return[features_train, features_test, target_train, target_test]\n",
    "        "
   ]
  },
  {
   "cell_type": "code",
   "execution_count": 14,
   "metadata": {},
   "outputs": [],
   "source": [
    "pipeline = Pipeline([\n",
    "    ('lemm', Lemmatizer()),\n",
    "    ('clear', Clearer()),\n",
    "    ('splitter', Splitter(test_size = 0.2)),\n",
    "    ('upsampler', Upsampler(initial_df['toxic'], 8)),\n",
    "    ('tfidf', TfIdf())\n",
    "])"
   ]
  },
  {
   "cell_type": "code",
   "execution_count": 15,
   "metadata": {},
   "outputs": [],
   "source": [
    "features_train, features_test, target_train, target_test = pipeline.fit_transform(initial_df['text'])"
   ]
  },
  {
   "cell_type": "markdown",
   "metadata": {},
   "source": [
    "### Комментарий\n",
    "Итак, мы подготовили признаки. Посмотрим на получившийся баланс классов и пойдем дальше."
   ]
  },
  {
   "cell_type": "code",
   "execution_count": 16,
   "metadata": {},
   "outputs": [
    {
     "data": {
      "image/png": "[encoded data removed]",
      "text/plain": [
       "<Figure size 432x288 with 1 Axes>"
      ]
     },
     "metadata": {
      "needs_background": "light"
     },
     "output_type": "display_data"
    },
    {
     "name": "stdout",
     "output_type": "stream",
     "text": [
      "Частота классов\n"
     ]
    },
    {
     "data": {
      "text/plain": [
       "0    114675\n",
       "1    103848\n",
       "Name: toxic, dtype: int64"
      ]
     },
     "metadata": {},
     "output_type": "display_data"
    }
   ],
   "source": [
    "plt.figure()\n",
    "plt.title('Баланс классов после применения upsample')\n",
    "plt.xlabel('Значения классов')\n",
    "plt.ylabel('Частота классов')\n",
    "plt.hist(target_train)\n",
    "plt.show()\n",
    "\n",
    "print('Частота классов')\n",
    "display(pd.Series(target_train).value_counts())"
   ]
  },
  {
   "cell_type": "markdown",
   "metadata": {},
   "source": [
    "### Комментарий\n",
    "Вот оно равенство!\n",
    "\n",
    "Перехордим к обучению."
   ]
  },
  {
   "cell_type": "markdown",
   "metadata": {},
   "source": [
    "## Обучение моделей"
   ]
  },
  {
   "cell_type": "code",
   "execution_count": 17,
   "metadata": {},
   "outputs": [],
   "source": [
    "#назначим scorer\n",
    "my_scorer = make_scorer(f1_score, greater_is_better = True)\n",
    "#создаем пустые модели\n",
    "lreg = LogisticRegression(random_state = 42, n_jobs = -1)\n",
    "tree = DecisionTreeClassifier(random_state = 42)\n",
    "forest = RandomForestClassifier(random_state = 42)\n",
    "sgb = LGBMClassifier(random_state = 42, n_jobs = -1, silent = True)\n",
    "\n",
    "#формируем сетки гиперпараметров\n",
    "lreg_grid = {'solver': ['newton-cg', 'lbfgs', 'liblinear', 'sag', 'saga'], \n",
    "            'max_iter': range(10, 200, 20), 'penalty': ['l1', 'l2', 'elasticnet', 'none']}\n",
    "tree_grid = {'max_depth': range(1, 50)}\n",
    "forest_grid = {'max_depth': range(1, 30), 'n_estimators': range(1, 150, 10)}\n",
    "sgb_grid = {'n_estimators': range(1, 200, 10), 'max_depth': range(1, 50), \n",
    "            'learning_rate': [0, 0.1, 0.2, 0.3, 0.4, 0.5], 'reg_alpha': [0, 0.1, 0.2, 0.3, 0.4, 0.5], \n",
    "            'num_leaves': range(0, 50, 10)}\n",
    "\n",
    "#готовим классы для обучения\n",
    "best_tree = RandomizedSearchCV(tree, n_jobs = -1, n_iter = 9, \n",
    "                               param_distributions = tree_grid, random_state = 42, \n",
    "                               scoring = my_scorer, cv = 5)\n",
    "best_forest = RandomizedSearchCV(forest, n_jobs = -1, n_iter = 3, \n",
    "                               param_distributions = forest_grid, random_state = 42, \n",
    "                               scoring = my_scorer, cv = 2)\n",
    "best_sgb  = RandomizedSearchCV(sgb, n_jobs = -1, n_iter = 9, \n",
    "                               param_distributions = sgb_grid, random_state = 42, \n",
    "                               scoring = my_scorer, cv = 5)\n",
    "best_lreg = RandomizedSearchCV(lreg, n_jobs = -1, n_iter = 9,\n",
    "                              param_distributions = lreg_grid, cv = 5)"
   ]
  },
  {
   "cell_type": "code",
   "execution_count": 18,
   "metadata": {},
   "outputs": [],
   "source": [
    "import time\n",
    "#ФУНКЦИЯ ДЛЯ АВТОМАТИЗАЦИИ ОБУЧЕНИЯ, ЗАПОМИНАНИЯ МОДЕЛЕЙ И ВЫВОДА ПАРАМЕТРОВ ОБУЧЕНИЯ\n",
    "def learner(estimator, \n",
    "            name, features_train = features_train, \n",
    "            target_train = target_train, \n",
    "            features_test = features_test,\n",
    "            target_test = target_test):\n",
    "    model_start = time.time()\n",
    "    estimator.fit(features_train, target_train)\n",
    "\n",
    "    model_end = time.time()\n",
    "    test_predictions = estimator.predict(features_test)\n",
    "    predict_end = time.time()\n",
    "    learning_time = model_end - model_start\n",
    "    predict_time = predict_end - model_end\n",
    "    f1 = f1_score(target_test, test_predictions)\n",
    "    try:\n",
    "        params = estimator.best_params_\n",
    "        print('Подобранные гиперпараметры:', params)\n",
    "        print('Оценка модели', name,' f1_score =', f1)\n",
    "        print('Время, потраченное на обучение модели:', learning_time, 'сек.')\n",
    "        print('Время, потраченное на инференс:', predict_time)\n",
    "        print()\n",
    "        return pd.Series([estimator, f1_score, params , learning_time, predict_time],\n",
    "                         index = ['Модель', 'Гиперпараметры', 'f1_score', 'Время обучения', 'Время инференса'])\n",
    "    except:\n",
    "        params = estimator.get_params()\n",
    "        print('Подобранные гиперпараметры:', params)\n",
    "        print('Оценка модели', name,' f1_score =', f1)\n",
    "        print('Время, потраченное на обучение модели:', learning_time, 'сек.')\n",
    "        print('Время, потраченное на инференс:', predict_time)\n",
    "        print()\n",
    "        return pd.Series([estimator, f1_score, params , learning_time, predict_time], index = ['Модель', 'Гиперпараметры', 'f1_score', 'Время обучения', 'Время инференса'])"
   ]
  },
  {
   "cell_type": "code",
   "execution_count": 19,
   "metadata": {},
   "outputs": [
    {
     "name": "stderr",
     "output_type": "stream",
     "text": [
      "/Users/semionkaminsky/opt/anaconda3/envs/tf/lib/python3.7/site-packages/sklearn/model_selection/_search.py:921: UserWarning: One or more of the test scores are non-finite: [0.95745986        nan 0.9574919         nan 0.95745986        nan\n",
      "        nan 0.9574919  0.9574919 ]\n",
      "  category=UserWarning\n",
      "/Users/semionkaminsky/opt/anaconda3/envs/tf/lib/python3.7/site-packages/sklearn/linear_model/_logistic.py:1357: UserWarning: 'n_jobs' > 1 does not have any effect when 'solver' is set to 'liblinear'. Got 'n_jobs' = 8.\n",
      "  \" = {}.\".format(effective_n_jobs(self.n_jobs)))\n"
     ]
    },
    {
     "name": "stdout",
     "output_type": "stream",
     "text": [
      "Подобранные гиперпараметры: {'solver': 'liblinear', 'penalty': 'l2', 'max_iter': 130}\n",
      "Оценка модели Линейная регрессия  f1_score = 0.7510783358842353\n",
      "Время, потраченное на обучение модели: 17.14446496963501 сек.\n",
      "Время, потраченное на инференс: 0.016049861907958984\n",
      "\n",
      "Подобранные гиперпараметры: {'max_depth': 48}\n",
      "Оценка модели Решающее дерево  f1_score = 0.6274984857662024\n",
      "Время, потраченное на обучение модели: 412.5091381072998 сек.\n",
      "Время, потраченное на инференс: 0.03431892395019531\n",
      "\n",
      "Подобранные гиперпараметры: {'n_estimators': 31, 'max_depth': 24}\n",
      "Оценка модели Случайный лес  f1_score = 0.5284390758766272\n",
      "Время, потраченное на обучение модели: 20.700566053390503 сек.\n",
      "Время, потраченное на инференс: 0.13332700729370117\n",
      "\n",
      "Подобранные гиперпараметры: {'reg_alpha': 0.3, 'num_leaves': 40, 'n_estimators': 171, 'max_depth': 33, 'learning_rate': 0.4}\n",
      "Оценка модели Градиентный бустинг  f1_score = 0.7688014101057579\n",
      "Время, потраченное на обучение модели: 868.7046370506287 сек.\n",
      "Время, потраченное на инференс: 0.773561954498291\n",
      "\n"
     ]
    }
   ],
   "source": [
    "models = pd.Series([best_lreg, best_tree, best_forest, best_sgb], \n",
    "                   index = ['Линейная регрессия', 'Решающее дерево', 'Случайный лес', 'Градиентный бустинг'])\n",
    "result_1 = pd.DataFrame(columns = ['Модель','Гиперпараметры' , 'f1_score', 'Время обучения', 'Время инференса'])\n",
    "for idx in ['Линейная регрессия', 'Решающее дерево', 'Случайный лес', 'Градиентный бустинг']:\n",
    "    result_1 = result_1.append(learner(models[idx], idx), ignore_index = True)"
   ]
  },
  {
   "cell_type": "markdown",
   "metadata": {},
   "source": [
    "### Комментарий\n",
    "Ура! Мы преодолели порог в 0.75. Осталось совсем немного: проверим на адекватность, поставивив в предсказание массив нулей (мы же помним из анализа баланса классов, что чаще всего текст нетоксичный)."
   ]
  },
  {
   "cell_type": "code",
   "execution_count": 20,
   "metadata": {},
   "outputs": [
    {
     "name": "stdout",
     "output_type": "stream",
     "text": [
      "f1 константной модели равен 0.0\n"
     ]
    }
   ],
   "source": [
    "constant_predict = np.zeros(features_test.shape[0])\n",
    "print('f1 константной модели равен', f1_score(target_test, constant_predict))"
   ]
  },
  {
   "cell_type": "markdown",
   "metadata": {},
   "source": [
    "## Заключение\n",
    "Проверка на адекватность пройдена (на самом деле, именно из-за специфики f1 получаеься нулевой скор, так что проверка весьма условная)! Модель логистической регрессии прошла все проверки и признается лучшей моделью в данном проекте! Отлично, фиксируем: f1 = 0.763, время на обучение = 5 минут 30 секунд, время на предсказание = 0.003 секунды. Надо сказать, градиентный бустинг тоже прошел все проверки, но качество у него лучше всего на 5 тысячных, а время обучения больше в 2 с лишним раза. В общем, записываем в best_model логистическую регрессию."
   ]
  },
  {
   "cell_type": "code",
   "execution_count": 21,
   "metadata": {},
   "outputs": [],
   "source": [
    "best_model = best_lreg"
   ]
  }
 ],
 "metadata": {
  "kernelspec": {
   "display_name": "Python 3",
   "language": "python",
   "name": "python3"
  },
  "language_info": {
   "codemirror_mode": {
    "name": "ipython",
    "version": 3
   },
   "file_extension": ".py",
   "mimetype": "text/x-python",
   "name": "python",
   "nbconvert_exporter": "python",
   "pygments_lexer": "ipython3",
   "version": "3.7.10"
  },
  "toc": {
   "base_numbering": 1,
   "nav_menu": {},
   "number_sections": true,
   "sideBar": true,
   "skip_h1_title": true,
   "title_cell": "Table of Contents",
   "title_sidebar": "Contents",
   "toc_cell": false,
   "toc_position": {},
   "toc_section_display": true,
   "toc_window_display": false
  }
 },
 "nbformat": 4,
 "nbformat_minor": 4
}
