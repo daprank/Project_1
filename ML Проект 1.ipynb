{
 "cells": [
  {
   "cell_type": "markdown",
   "metadata": {},
   "source": [
    "# Создание модели, предлагающей оптимальный тарифный план\n",
    "В данном проекте мы рассмотрим несколько моделей, способных спрогнозировать выбор того или иного тарифного плана на основе пользовательских предпочтений. Будет рассмотрена задача классификации в контексте двух тарифов SMART и ULTRA.\n",
    "\n",
    "# Содержание\n",
    "\n",
    "## [Загрузка данных](#step_1)\n",
    "## [Делим выборки](#step_2)\n",
    "## [Дерево решений](#step_3)\n",
    "### [Промежуточный результат](#step_4)\n",
    "## [Случайный лес](#step_5)\n",
    "### [Новое предположение](#step_6)\n",
    "### [Промежуточный результат](#step_7)\n",
    "## [Логистическая регрессия](#step_8)\n",
    "### [Промежуточный результат](#step_9)\n",
    "## [Проверка моделей на тестовой выборке](#step_10)\n",
    "### [Результаты](#step_11)\n",
    "## [Проверка модели на адекватность](#step_12)\n",
    "### [Результат](#step_13)\n",
    "## [Градиентный бустинг над решающими деревьями](#step_14)\n",
    "### [Новый претендент на лидерство](#step_15)\n",
    "## [Итог](#step_16)"
   ]
  },
  {
   "cell_type": "markdown",
   "metadata": {},
   "source": [
    "## Загрузим данные и посмотрим на них\n",
    "<a id='step_1'></a>"
   ]
  },
  {
   "cell_type": "code",
   "execution_count": 1,
   "metadata": {},
   "outputs": [
    {
     "data": {
      "text/html": [
       "<div>\n",
       "<style scoped>\n",
       "    .dataframe tbody tr th:only-of-type {\n",
       "        vertical-align: middle;\n",
       "    }\n",
       "\n",
       "    .dataframe tbody tr th {\n",
       "        vertical-align: top;\n",
       "    }\n",
       "\n",
       "    .dataframe thead th {\n",
       "        text-align: right;\n",
       "    }\n",
       "</style>\n",
       "<table border=\"1\" class=\"dataframe\">\n",
       "  <thead>\n",
       "    <tr style=\"text-align: right;\">\n",
       "      <th></th>\n",
       "      <th>calls</th>\n",
       "      <th>minutes</th>\n",
       "      <th>messages</th>\n",
       "      <th>mb_used</th>\n",
       "      <th>is_ultra</th>\n",
       "    </tr>\n",
       "  </thead>\n",
       "  <tbody>\n",
       "    <tr>\n",
       "      <th>0</th>\n",
       "      <td>40.0</td>\n",
       "      <td>311.90</td>\n",
       "      <td>83.0</td>\n",
       "      <td>19915.42</td>\n",
       "      <td>0</td>\n",
       "    </tr>\n",
       "    <tr>\n",
       "      <th>1</th>\n",
       "      <td>85.0</td>\n",
       "      <td>516.75</td>\n",
       "      <td>56.0</td>\n",
       "      <td>22696.96</td>\n",
       "      <td>0</td>\n",
       "    </tr>\n",
       "    <tr>\n",
       "      <th>2</th>\n",
       "      <td>77.0</td>\n",
       "      <td>467.66</td>\n",
       "      <td>86.0</td>\n",
       "      <td>21060.45</td>\n",
       "      <td>0</td>\n",
       "    </tr>\n",
       "    <tr>\n",
       "      <th>3</th>\n",
       "      <td>106.0</td>\n",
       "      <td>745.53</td>\n",
       "      <td>81.0</td>\n",
       "      <td>8437.39</td>\n",
       "      <td>1</td>\n",
       "    </tr>\n",
       "    <tr>\n",
       "      <th>4</th>\n",
       "      <td>66.0</td>\n",
       "      <td>418.74</td>\n",
       "      <td>1.0</td>\n",
       "      <td>14502.75</td>\n",
       "      <td>0</td>\n",
       "    </tr>\n",
       "    <tr>\n",
       "      <th>5</th>\n",
       "      <td>58.0</td>\n",
       "      <td>344.56</td>\n",
       "      <td>21.0</td>\n",
       "      <td>15823.37</td>\n",
       "      <td>0</td>\n",
       "    </tr>\n",
       "    <tr>\n",
       "      <th>6</th>\n",
       "      <td>57.0</td>\n",
       "      <td>431.64</td>\n",
       "      <td>20.0</td>\n",
       "      <td>3738.90</td>\n",
       "      <td>1</td>\n",
       "    </tr>\n",
       "    <tr>\n",
       "      <th>7</th>\n",
       "      <td>15.0</td>\n",
       "      <td>132.40</td>\n",
       "      <td>6.0</td>\n",
       "      <td>21911.60</td>\n",
       "      <td>0</td>\n",
       "    </tr>\n",
       "    <tr>\n",
       "      <th>8</th>\n",
       "      <td>7.0</td>\n",
       "      <td>43.39</td>\n",
       "      <td>3.0</td>\n",
       "      <td>2538.67</td>\n",
       "      <td>1</td>\n",
       "    </tr>\n",
       "    <tr>\n",
       "      <th>9</th>\n",
       "      <td>90.0</td>\n",
       "      <td>665.41</td>\n",
       "      <td>38.0</td>\n",
       "      <td>17358.61</td>\n",
       "      <td>0</td>\n",
       "    </tr>\n",
       "    <tr>\n",
       "      <th>10</th>\n",
       "      <td>82.0</td>\n",
       "      <td>560.51</td>\n",
       "      <td>20.0</td>\n",
       "      <td>9619.53</td>\n",
       "      <td>1</td>\n",
       "    </tr>\n",
       "    <tr>\n",
       "      <th>11</th>\n",
       "      <td>45.0</td>\n",
       "      <td>344.32</td>\n",
       "      <td>13.0</td>\n",
       "      <td>19898.81</td>\n",
       "      <td>0</td>\n",
       "    </tr>\n",
       "    <tr>\n",
       "      <th>12</th>\n",
       "      <td>51.0</td>\n",
       "      <td>437.13</td>\n",
       "      <td>61.0</td>\n",
       "      <td>21523.58</td>\n",
       "      <td>0</td>\n",
       "    </tr>\n",
       "    <tr>\n",
       "      <th>13</th>\n",
       "      <td>56.0</td>\n",
       "      <td>433.07</td>\n",
       "      <td>16.0</td>\n",
       "      <td>16702.36</td>\n",
       "      <td>0</td>\n",
       "    </tr>\n",
       "    <tr>\n",
       "      <th>14</th>\n",
       "      <td>108.0</td>\n",
       "      <td>587.90</td>\n",
       "      <td>0.0</td>\n",
       "      <td>14406.50</td>\n",
       "      <td>1</td>\n",
       "    </tr>\n",
       "    <tr>\n",
       "      <th>15</th>\n",
       "      <td>6.0</td>\n",
       "      <td>22.13</td>\n",
       "      <td>0.0</td>\n",
       "      <td>2710.09</td>\n",
       "      <td>0</td>\n",
       "    </tr>\n",
       "    <tr>\n",
       "      <th>16</th>\n",
       "      <td>2.0</td>\n",
       "      <td>18.73</td>\n",
       "      <td>0.0</td>\n",
       "      <td>588.89</td>\n",
       "      <td>0</td>\n",
       "    </tr>\n",
       "    <tr>\n",
       "      <th>17</th>\n",
       "      <td>26.0</td>\n",
       "      <td>163.62</td>\n",
       "      <td>4.0</td>\n",
       "      <td>16870.34</td>\n",
       "      <td>0</td>\n",
       "    </tr>\n",
       "    <tr>\n",
       "      <th>18</th>\n",
       "      <td>79.0</td>\n",
       "      <td>532.62</td>\n",
       "      <td>90.0</td>\n",
       "      <td>19908.31</td>\n",
       "      <td>0</td>\n",
       "    </tr>\n",
       "    <tr>\n",
       "      <th>19</th>\n",
       "      <td>49.0</td>\n",
       "      <td>341.67</td>\n",
       "      <td>81.0</td>\n",
       "      <td>11770.28</td>\n",
       "      <td>1</td>\n",
       "    </tr>\n",
       "  </tbody>\n",
       "</table>\n",
       "</div>"
      ],
      "text/plain": [
       "    calls  minutes  messages   mb_used  is_ultra\n",
       "0    40.0   311.90      83.0  19915.42         0\n",
       "1    85.0   516.75      56.0  22696.96         0\n",
       "2    77.0   467.66      86.0  21060.45         0\n",
       "3   106.0   745.53      81.0   8437.39         1\n",
       "4    66.0   418.74       1.0  14502.75         0\n",
       "5    58.0   344.56      21.0  15823.37         0\n",
       "6    57.0   431.64      20.0   3738.90         1\n",
       "7    15.0   132.40       6.0  21911.60         0\n",
       "8     7.0    43.39       3.0   2538.67         1\n",
       "9    90.0   665.41      38.0  17358.61         0\n",
       "10   82.0   560.51      20.0   9619.53         1\n",
       "11   45.0   344.32      13.0  19898.81         0\n",
       "12   51.0   437.13      61.0  21523.58         0\n",
       "13   56.0   433.07      16.0  16702.36         0\n",
       "14  108.0   587.90       0.0  14406.50         1\n",
       "15    6.0    22.13       0.0   2710.09         0\n",
       "16    2.0    18.73       0.0    588.89         0\n",
       "17   26.0   163.62       4.0  16870.34         0\n",
       "18   79.0   532.62      90.0  19908.31         0\n",
       "19   49.0   341.67      81.0  11770.28         1"
      ]
     },
     "metadata": {},
     "output_type": "display_data"
    },
    {
     "name": "stdout",
     "output_type": "stream",
     "text": [
      "<class 'pandas.core.frame.DataFrame'>\n",
      "RangeIndex: 3214 entries, 0 to 3213\n",
      "Data columns (total 5 columns):\n",
      " #   Column    Non-Null Count  Dtype  \n",
      "---  ------    --------------  -----  \n",
      " 0   calls     3214 non-null   float64\n",
      " 1   minutes   3214 non-null   float64\n",
      " 2   messages  3214 non-null   float64\n",
      " 3   mb_used   3214 non-null   float64\n",
      " 4   is_ultra  3214 non-null   int64  \n",
      "dtypes: float64(4), int64(1)\n",
      "memory usage: 125.7 KB\n"
     ]
    }
   ],
   "source": [
    "import pandas as pd\n",
    "pd.options.mode.chained_assignment = None\n",
    "df = pd.read_csv(r'C:\\Users\\Семен\\Downloads\\users_behavior.csv')\n",
    "display(df.head(20))\n",
    "df.info()"
   ]
  },
  {
   "cell_type": "markdown",
   "metadata": {},
   "source": [
    "Итак, с данными все в порядке. В качестве `features` будем использовать `calls`, `minutes`, `messages`, `mb_used`. Наш `target` - это `is_ultra`."
   ]
  },
  {
   "cell_type": "markdown",
   "metadata": {},
   "source": [
    "## Получение обучающей, тестовой и валидационной выборок, отделение features от target\n",
    "<a id='step_2'></a>"
   ]
  },
  {
   "cell_type": "code",
   "execution_count": 2,
   "metadata": {},
   "outputs": [],
   "source": [
    "from sklearn.model_selection import train_test_split\n",
    "df_train, df_test_valid = train_test_split(df, test_size = 0.4, random_state = 12345)\n",
    "df_test, df_valid = train_test_split(df_test_valid, test_size = 0.5, random_state = 12345)\n",
    "\n",
    "features_train = df_train.drop('is_ultra', axis = 1).copy()\n",
    "target_train = df_train['is_ultra'].copy()\n",
    "\n",
    "features_test = df_test.drop('is_ultra', axis = 1).copy()\n",
    "target_test = df_test['is_ultra'].copy()\n",
    "\n",
    "features_valid = df_valid.drop('is_ultra', axis = 1).copy()\n",
    "target_valid = df_valid['is_ultra'].copy()"
   ]
  },
  {
   "cell_type": "markdown",
   "metadata": {},
   "source": [
    "Проверим размер получившихся выборок"
   ]
  },
  {
   "cell_type": "code",
   "execution_count": 3,
   "metadata": {},
   "outputs": [
    {
     "name": "stdout",
     "output_type": "stream",
     "text": [
      "Размер обучающей выборки: 9640\n",
      "Размер валидационной выборки: 3215\n",
      "Размер тестовой выборки: 3215\n",
      "Соотношение 0.6 : 0.2 : 0.2\n"
     ]
    }
   ],
   "source": [
    "print('Размер обучающей выборки:', df_train.size)\n",
    "print('Размер валидационной выборки:', df_valid.size)\n",
    "print('Размер тестовой выборки:', df_test.size)\n",
    "train_share = round((df_train.size / df.size), 2)\n",
    "valid_share = round(df_valid.size / df.size, 2)\n",
    "test_share = round(df_test.size / df.size, 2)\n",
    "print('Соотношение', train_share, ':', valid_share, ':', test_share)"
   ]
  },
  {
   "cell_type": "markdown",
   "metadata": {},
   "source": [
    "Все верно, разделили правильно, дважды использовав `train_test_split`. Перейдем непосредственно к созданию моделей и их сравнению.\n",
    "## Дерево решений\n",
    "<a id='step_3\n",
    "       '></a>"
   ]
  },
  {
   "cell_type": "code",
   "execution_count": 4,
   "metadata": {},
   "outputs": [
    {
     "name": "stdout",
     "output_type": "stream",
     "text": [
      "Для max_depth = 1  accuracy по обучающей выборке равно 0.758  accuracy по валидационнной выборке равно 0.736\n",
      "Для max_depth = 2  accuracy по обучающей выборке равно 0.788  accuracy по валидационнной выборке равно 0.774\n",
      "Для max_depth = 3  accuracy по обучающей выборке равно 0.808  accuracy по валидационнной выборке равно 0.779\n",
      "Для max_depth = 4  accuracy по обучающей выборке равно 0.811  accuracy по валидационнной выборке равно 0.774\n",
      "Для max_depth = 5  accuracy по обучающей выборке равно 0.82  accuracy по валидационнной выборке равно 0.784\n",
      "Для max_depth = 6  accuracy по обучающей выборке равно 0.838  accuracy по валидационнной выборке равно 0.776\n",
      "Для max_depth = 7  accuracy по обучающей выборке равно 0.856  accuracy по валидационнной выборке равно 0.799\n",
      "Для max_depth = 8  accuracy по обучающей выборке равно 0.863  accuracy по валидационнной выборке равно 0.793\n",
      "Для max_depth = 9  accuracy по обучающей выборке равно 0.881  accuracy по валидационнной выборке равно 0.781\n",
      "Для max_depth = 10  accuracy по обучающей выборке равно 0.889  accuracy по валидационнной выборке равно 0.788\n",
      "Для max_depth = 11  accuracy по обучающей выборке равно 0.907  accuracy по валидационнной выборке равно 0.774\n",
      "Для max_depth = 12  accuracy по обучающей выборке равно 0.925  accuracy по валидационнной выборке равно 0.781\n",
      "Для max_depth = 13  accuracy по обучающей выборке равно 0.942  accuracy по валидационнной выборке равно 0.771\n",
      "Для max_depth = 14  accuracy по обучающей выборке равно 0.955  accuracy по валидационнной выборке равно 0.76\n",
      " \n",
      "Лучшее дерево по валидационной выборке выборке имеет параметр max_depth = 7  и accuracy по валидационной выборке, равное 0.7994\n",
      "Лучшее дерево по обучающей выборке выборке имеет параметр max_depth = 14  и accuracy по обучающей выборке, равное 0.9554\n"
     ]
    }
   ],
   "source": [
    "from sklearn.tree import DecisionTreeClassifier \n",
    "from sklearn.metrics import accuracy_score\n",
    "from sklearn import tree\n",
    "best_tree_valid = None\n",
    "best_accuracy_valid = 0\n",
    "best_tree_train = None\n",
    "best_accuracy_train = 0\n",
    "best_depth_valid = 0\n",
    "best_depth_train = 0\n",
    "for depth in range(1, 15):\n",
    "    model = DecisionTreeClassifier(max_depth = depth, random_state = 12345)\n",
    "    model.fit(features_train, target_train)\n",
    "    predictions_train = model.predict(features_train)\n",
    "    predictions_valid = model.predict(features_valid)\n",
    "    accuracy_train = accuracy_score(predictions_train, target_train)\n",
    "    accuracy_valid = accuracy_score(predictions_valid, target_valid)\n",
    "    print('Для max_depth =', depth, ' accuracy по обучающей выборке равно', round(accuracy_train, 3), ' accuracy по валидационнной выборке равно', round(accuracy_valid, 3))\n",
    "    if accuracy_train > best_accuracy_train:\n",
    "        best_accuracy_train = accuracy_train\n",
    "        best_tree_train = model\n",
    "        best_depth_train = depth\n",
    "    if accuracy_valid > best_accuracy_valid:\n",
    "        best_accuracy_valid = accuracy_valid\n",
    "        best_tree_valid = model\n",
    "        best_depth_valid = depth\n",
    "print(' ')\n",
    "print('Лучшее дерево по валидационной выборке выборке имеет параметр max_depth =', best_depth_valid, ' и accuracy по валидационной выборке, равное', round(best_accuracy_valid, 4))\n",
    "print('Лучшее дерево по обучающей выборке выборке имеет параметр max_depth =', best_depth_train, ' и accuracy по обучающей выборке, равное', round(best_accuracy_train, 4))\n",
    "best_tree = best_tree_valid"
   ]
  },
  {
   "cell_type": "markdown",
   "metadata": {},
   "source": [
    "### Промежуточный результат\n",
    "Как видим, `accuracy` на лучшей модели решающего дерева достигается при максимальной глубине равной 7. Далее показатель по обучающей выборке возрастает, но по валидационной убывает - происхдит переобучение. Само дерево распечатывать не будем, поскольку оно попросту нечитаемо."
   ]
  },
  {
   "cell_type": "markdown",
   "metadata": {},
   "source": [
    "## Случайный лес\n",
    "<a id='step_4'></a>"
   ]
  },
  {
   "cell_type": "code",
   "execution_count": 5,
   "metadata": {},
   "outputs": [
    {
     "name": "stdout",
     "output_type": "stream",
     "text": [
      "Лучший случайный лес по валидационной выборке имеет параметр n_estimators =  10  max_depth = 9  и значение accuracy = 0.813\n",
      "Лучший случайный лес по обучающей выборке имеет параметр n_estimators =  50  max_depth = 14  и значение accuracy = 0.943\n"
     ]
    }
   ],
   "source": [
    "from sklearn.ensemble import RandomForestClassifier\n",
    "best_forest_valid = None\n",
    "best_accuracy_valid_forest = 0\n",
    "best_forest_train = None\n",
    "best_accuracy_train_forest = 0\n",
    "for est in range(10, 51, 5):\n",
    "    for depth_forest in range(1, 15):\n",
    "        forest = RandomForestClassifier(random_state = 12345, max_depth = depth_forest, n_estimators = est)\n",
    "        forest.fit(features_train, target_train)\n",
    "        predictions_valid = forest.predict(features_valid)\n",
    "        accuracy_valid_forest = accuracy_score(predictions_valid, target_valid)\n",
    "        predictions_train = forest.predict(features_train)\n",
    "        accuracy_train_forest = accuracy_score(predictions_train, target_train)\n",
    "        if accuracy_train_forest > best_accuracy_train_forest:\n",
    "            best_accuracy_train_forest = accuracy_train_forest\n",
    "            best_est_train = est\n",
    "            best_depth_forest_train = depth_forest\n",
    "            best_forest_train = forest\n",
    "        if accuracy_valid_forest > best_accuracy_valid_forest:\n",
    "            best_accuracy_valid_forest = accuracy_valid_forest\n",
    "            best_est_valid = est\n",
    "            best_depth_forest_valid = depth_forest\n",
    "            best_forest_valid = forest\n",
    "print('Лучший случайный лес по валидационной выборке имеет параметр n_estimators = ', best_est_valid, ' max_depth =', best_depth_forest_valid, ' и значение accuracy =', round(best_accuracy_valid_forest, 3))   \n",
    "print('Лучший случайный лес по обучающей выборке имеет параметр n_estimators = ', best_est_train, ' max_depth =', best_depth_forest_train, ' и значение accuracy =', round(best_accuracy_train_forest, 3))  "
   ]
  },
  {
   "cell_type": "markdown",
   "metadata": {},
   "source": [
    "### Промежуточный результат и дополнительная проверка\n",
    "<a id='step_5'></a>\n",
    "Как видим, accuracy лучшего леса по валидационной выборке больше, чем то, что нам дало решающее дерево. А можно ли улучшить результат? Попробуем это сделать, рассмотрев деревья с `n_estimators` от 6 до 12 и max_depth от 6 до 13."
   ]
  },
  {
   "cell_type": "code",
   "execution_count": 6,
   "metadata": {},
   "outputs": [
    {
     "name": "stdout",
     "output_type": "stream",
     "text": [
      "Лучший случайный лес по валидационной выборке имеет параметр n_estimators =  8  max_depth = 9  и значение accuracy = 0.813\n",
      "Лучший случайный лес по обучающей выборке имеет параметр n_estimators =  8  max_depth = 13  и значение accuracy = 0.925\n"
     ]
    }
   ],
   "source": [
    "best_accuracy_train_forest_n = 0\n",
    "best_accuracy_valid_forest_n = 0\n",
    "for est in range(6, 13):\n",
    "    for depth_forest in range(6, 14):\n",
    "        forest = RandomForestClassifier(random_state = 12345, max_depth = depth_forest, n_estimators = est)\n",
    "        forest.fit(features_train, target_train)\n",
    "        predictions_valid = forest.predict(features_valid)\n",
    "        accuracy_valid_forest = accuracy_score(predictions_valid, target_valid)\n",
    "        predictions_train = forest.predict(features_train)\n",
    "        accuracy_train_forest = accuracy_score(predictions_train, target_train)\n",
    "        if accuracy_train_forest > best_accuracy_train_forest_n:\n",
    "            best_accuracy_train_forest_n = accuracy_train_forest\n",
    "            best_est_train_n = est\n",
    "            best_depth_forest_train_n = depth_forest\n",
    "        if accuracy_valid_forest > best_accuracy_valid_forest_n:\n",
    "            best_accuracy_valid_forest_n = accuracy_valid_forest\n",
    "            best_est_valid_n = est\n",
    "            best_depth_forest_valid_n = depth_forest\n",
    "print('Лучший случайный лес по валидационной выборке имеет параметр n_estimators = ', best_est_valid_n, ' max_depth =', best_depth_forest_valid_n, ' и значение accuracy =', round(best_accuracy_valid_forest_n, 3))   \n",
    "print('Лучший случайный лес по обучающей выборке имеет параметр n_estimators = ', best_est_train_n, ' max_depth =', best_depth_forest_train_n, ' и значение accuracy =', round(best_accuracy_train_forest_n, 3))  "
   ]
  },
  {
   "cell_type": "markdown",
   "metadata": {},
   "source": [
    "### Результаты дополнительной проверки\n",
    "<a id='step_6'></a>\n",
    "Проверка выдала довольно странный результат: то же самое значение accuracy, но другое значение `n_estimators`. Может дело в округлении? Посмотрим. "
   ]
  },
  {
   "cell_type": "code",
   "execution_count": 7,
   "metadata": {},
   "outputs": [
    {
     "name": "stdout",
     "output_type": "stream",
     "text": [
      "Модели одинаково хороши! Интересно...\n"
     ]
    }
   ],
   "source": [
    "forest_1 = RandomForestClassifier(n_estimators = 8, max_depth = 9, random_state = 12345)\n",
    "forest_2 = RandomForestClassifier(n_estimators = 10, max_depth = 9, random_state = 12345)\n",
    "\n",
    "forest_1.fit(features_train, target_train)\n",
    "forest_2.fit(features_train, target_train)\n",
    "\n",
    "predictions_1 = forest_1.predict(features_valid)\n",
    "predictions_2 = forest_2.predict(features_valid)\n",
    "\n",
    "accuracy_1 = accuracy_score(predictions_1, target_valid)\n",
    "accuracy_2 = accuracy_score(predictions_2, target_valid)\n",
    "if accuracy_1 > accuracy_2:\n",
    "    print('Лучшая модель с n_estimators = 8 и max_depth = 9. Не зря проверяли гипотезу!')\n",
    "    best_forest = forest_1\n",
    "elif accuracy_1 == accuracy_2:\n",
    "    print('Модели одинаково хороши! Интересно...')\n",
    "    best_forest = forest_1\n",
    "else:\n",
    "    print('Лучшая модель с n_estimators = 10 и max_depth = 9. Но хорошо, что проаерили гипотезу!')\n",
    "    best_forest = forest_2"
   ]
  },
  {
   "cell_type": "markdown",
   "metadata": {},
   "source": [
    "## Логистическая регрессия\n",
    "<a id='step_7'></a>"
   ]
  },
  {
   "cell_type": "code",
   "execution_count": 8,
   "metadata": {},
   "outputs": [
    {
     "name": "stderr",
     "output_type": "stream",
     "text": [
      "C:\\Anaconda3\\lib\\site-packages\\scipy\\optimize\\linesearch.py:466: LineSearchWarning: The line search algorithm did not converge\n",
      "  warn('The line search algorithm did not converge', LineSearchWarning)\n",
      "C:\\Anaconda3\\lib\\site-packages\\scipy\\optimize\\linesearch.py:314: LineSearchWarning: The line search algorithm did not converge\n",
      "  warn('The line search algorithm did not converge', LineSearchWarning)\n",
      "C:\\Anaconda3\\lib\\site-packages\\scipy\\optimize\\linesearch.py:466: LineSearchWarning: The line search algorithm did not converge\n",
      "  warn('The line search algorithm did not converge', LineSearchWarning)\n",
      "C:\\Anaconda3\\lib\\site-packages\\scipy\\optimize\\linesearch.py:314: LineSearchWarning: The line search algorithm did not converge\n",
      "  warn('The line search algorithm did not converge', LineSearchWarning)\n"
     ]
    },
    {
     "name": "stdout",
     "output_type": "stream",
     "text": [
      "При типе solver newton-cg  модель логистической регрессии дает accuracy = 0.753\n",
      "При типе solver lbfgs  модель логистической регрессии дает accuracy = 0.713\n",
      "При типе solver liblinear  модель логистической регрессии дает accuracy = 0.751\n",
      "При типе solver sag  модель логистической регрессии дает accuracy = 0.692\n",
      "При типе solver saga  модель логистической регрессии дает accuracy = 0.692\n",
      " \n",
      "Лучшая модель логистической регресии наблюдается при типе solver newton-cg  и дает дает accuracy = 0.753\n"
     ]
    },
    {
     "name": "stderr",
     "output_type": "stream",
     "text": [
      "C:\\Anaconda3\\lib\\site-packages\\sklearn\\linear_model\\_sag.py:330: ConvergenceWarning: The max_iter was reached which means the coef_ did not converge\n",
      "  \"the coef_ did not converge\", ConvergenceWarning)\n",
      "C:\\Anaconda3\\lib\\site-packages\\sklearn\\linear_model\\_sag.py:330: ConvergenceWarning: The max_iter was reached which means the coef_ did not converge\n",
      "  \"the coef_ did not converge\", ConvergenceWarning)\n"
     ]
    }
   ],
   "source": [
    "from sklearn.linear_model import LogisticRegression\n",
    "solvers = ['newton-cg', 'lbfgs', 'liblinear', 'sag', 'saga']\n",
    "best_accuracy_lreg = 0\n",
    "for solver in solvers:\n",
    "    l_reg_model = LogisticRegression(random_state = 12345, solver = solver)\n",
    "    l_reg_model.fit(features_train, target_train)\n",
    "    lreg_predictions = l_reg_model.predict(features_train)\n",
    "    accuracy_lreg = accuracy_score(lreg_predictions, target_train)\n",
    "    print('При типе solver', solver, ' модель логистической регрессии дает accuracy =', round(accuracy_lreg, 3))\n",
    "    if accuracy_lreg > best_accuracy_lreg:\n",
    "        best_accuracy_lreg = accuracy_lreg\n",
    "        best_solver = solver\n",
    "        best_lreg = l_reg_model\n",
    "print(' ')\n",
    "print('Лучшая модель логистической регресии наблюдается при типе solver', best_solver, ' и дает дает accuracy =', round(best_accuracy_lreg, 3))"
   ]
  },
  {
   "cell_type": "markdown",
   "metadata": {},
   "source": [
    "### Промежуточные результаты\n",
    "<a id='step_8'></a>\n",
    "Так, мы получили лучшее значение `accuracy`, которое нам может дать логистическая регресиия, и оно равно 0,753. Не густо!"
   ]
  },
  {
   "cell_type": "markdown",
   "metadata": {},
   "source": [
    "## Проверка моделей на тестовой выборке\n",
    "<a id='step_9'></a>"
   ]
  },
  {
   "cell_type": "code",
   "execution_count": 9,
   "metadata": {},
   "outputs": [
    {
     "name": "stdout",
     "output_type": "stream",
     "text": [
      "Accuracy лучшего решающего дерева по тестовой выборке равно 0.7822706065318819\n",
      "Accuracy лучшего случайного леса по тестовой выборке равно 0.7791601866251944\n",
      "Accuracy лучшей логистической регресии по тестовой выборке равно 0.7558320373250389\n"
     ]
    }
   ],
   "source": [
    "tree_predictions = best_tree.predict(features_test)\n",
    "accuracy_tree = accuracy_score(tree_predictions, target_test)\n",
    "\n",
    "forest_predictions = best_forest.predict(features_test)\n",
    "accuracy_forest = accuracy_score(forest_predictions, target_test)\n",
    "\n",
    "lreg_predictions = best_lreg.predict(features_test)\n",
    "accuracy_lreg = accuracy_score(lreg_predictions, target_test)\n",
    "\n",
    "print('Accuracy лучшего решающего дерева по тестовой выборке равно', accuracy_tree)\n",
    "print('Accuracy лучшего случайного леса по тестовой выборке равно', accuracy_forest)\n",
    "print('Accuracy лучшей логистической регресии по тестовой выборке равно', accuracy_lreg)"
   ]
  },
  {
   "cell_type": "markdown",
   "metadata": {},
   "source": [
    "### Результаты\n",
    "<a id='step_10'></a>\n",
    "Интересно, что по валидационной выборке выигрывал случайный лес, а по тестовой с небольшим отрывам в лидеры выбился случайный лес. В спорной ситуации вспомним, что важна еще и скорость работы, а у случайный лес такой медленный. Лучшей моделью признаем решающее дерево."
   ]
  },
  {
   "cell_type": "markdown",
   "metadata": {},
   "source": [
    "## Проверка модели на адекватность \n",
    "<a id='step_12'></a>"
   ]
  },
  {
   "cell_type": "code",
   "execution_count": 10,
   "metadata": {},
   "outputs": [
    {
     "name": "stdout",
     "output_type": "stream",
     "text": [
      "Accuracy константного предсказания равно 0.6924273858921162\n"
     ]
    }
   ],
   "source": [
    "df_groups = df_train.groupby('is_ultra').count()\n",
    "df_groups\n",
    "length = len(df_train)\n",
    "max_class = df_groups.max().max()\n",
    "print('Accuracy константного предсказания равно', max_class / length)"
   ]
  },
  {
   "cell_type": "markdown",
   "metadata": {},
   "source": [
    "### Результаты проверки\n",
    "<a id='step_13'></a>\n",
    "Видим, что выбранная лучшей модель предсказывает лучше лучшего константного предсказания. Отлично, модель прошла проверку на адекватность."
   ]
  },
  {
   "cell_type": "markdown",
   "metadata": {},
   "source": [
    "## Градиентный бустинг над решающими деревьями\n",
    "<a id='step_14'></a>\n",
    "Я попытаюсь, но ничего не гарантирую :)"
   ]
  },
  {
   "cell_type": "code",
   "execution_count": 19,
   "metadata": {},
   "outputs": [
    {
     "ename": "AttributeError",
     "evalue": "'DecisionTreeRegressor' object has no attribute 'plot_tree'",
     "output_type": "error",
     "traceback": [
      "\u001b[1;31m---------------------------------------------------------------------------\u001b[0m",
      "\u001b[1;31mAttributeError\u001b[0m                            Traceback (most recent call last)",
      "\u001b[1;32m<ipython-input-19-9cabe2429ab8>\u001b[0m in \u001b[0;36m<module>\u001b[1;34m\u001b[0m\n\u001b[0;32m     12\u001b[0m     \u001b[0mclf\u001b[0m \u001b[1;33m=\u001b[0m \u001b[0mtree\u001b[0m\u001b[1;33m\u001b[0m\u001b[1;33m\u001b[0m\u001b[0m\n\u001b[0;32m     13\u001b[0m     \u001b[0mtree\u001b[0m\u001b[1;33m.\u001b[0m\u001b[0mfit\u001b[0m\u001b[1;33m(\u001b[0m\u001b[0mfeatures_train\u001b[0m\u001b[1;33m,\u001b[0m \u001b[0mdf_train\u001b[0m\u001b[1;33m[\u001b[0m\u001b[1;34m'residuals'\u001b[0m\u001b[1;33m]\u001b[0m\u001b[1;33m)\u001b[0m\u001b[1;33m\u001b[0m\u001b[1;33m\u001b[0m\u001b[0m\n\u001b[1;32m---> 14\u001b[1;33m     \u001b[0mprint\u001b[0m\u001b[1;33m(\u001b[0m\u001b[0mtree\u001b[0m\u001b[1;33m.\u001b[0m\u001b[0mplot_tree\u001b[0m\u001b[1;33m(\u001b[0m\u001b[0mclf\u001b[0m\u001b[1;33m)\u001b[0m\u001b[1;33m)\u001b[0m\u001b[1;33m\u001b[0m\u001b[1;33m\u001b[0m\u001b[0m\n\u001b[0m\u001b[0;32m     15\u001b[0m     \u001b[0mdf_train\u001b[0m\u001b[1;33m[\u001b[0m\u001b[1;34m'predictions'\u001b[0m\u001b[1;33m]\u001b[0m \u001b[1;33m+=\u001b[0m \u001b[0mnu\u001b[0m \u001b[1;33m*\u001b[0m \u001b[0mtree\u001b[0m\u001b[1;33m.\u001b[0m\u001b[0mpredict\u001b[0m\u001b[1;33m(\u001b[0m\u001b[0mfeatures_train\u001b[0m\u001b[1;33m)\u001b[0m\u001b[1;33m\u001b[0m\u001b[1;33m\u001b[0m\u001b[0m\n\u001b[0;32m     16\u001b[0m     \u001b[0mreal_preds_train\u001b[0m \u001b[1;33m=\u001b[0m \u001b[1;33m(\u001b[0m\u001b[0mdf_train\u001b[0m\u001b[1;33m[\u001b[0m\u001b[1;34m'predictions'\u001b[0m\u001b[1;33m]\u001b[0m\u001b[1;33m+\u001b[0m\u001b[1;36m0.5\u001b[0m\u001b[1;33m)\u001b[0m\u001b[1;33m.\u001b[0m\u001b[0mastype\u001b[0m\u001b[1;33m(\u001b[0m\u001b[1;34m'int'\u001b[0m\u001b[1;33m)\u001b[0m\u001b[1;33m\u001b[0m\u001b[1;33m\u001b[0m\u001b[0m\n",
      "\u001b[1;31mAttributeError\u001b[0m: 'DecisionTreeRegressor' object has no attribute 'plot_tree'"
     ]
    }
   ],
   "source": [
    "from sklearn.tree import DecisionTreeRegressor\n",
    "from sklearn import tree\n",
    "df_train['predictions'] = df_train['is_ultra'].mean()\n",
    "df_valid['predictions'] = df_valid['is_ultra'].mean()\n",
    "n = 170\n",
    "nu = 0.1\n",
    "best_acc = 0\n",
    "trees = []\n",
    "for i in range(n):\n",
    "    df_train['residuals'] = df_train['is_ultra'] - df_train['predictions']\n",
    "    tree = DecisionTreeRegressor(max_depth = 1)\n",
    "    tree.fit(features_train, df_train['residuals'])\n",
    "    df_train['predictions'] += nu * tree.predict(features_train)\n",
    "    real_preds_train = (df_train['predictions']+0.5).astype('int')\n",
    "    \n",
    "    #проверяем accuracy на валидационной выборке и ищем лучшее n\n",
    "    df_valid['predictions'] += nu * tree.predict(features_valid)\n",
    "    real_preds_valid = (df_valid['predictions']+0.5).astype('int')\n",
    "    acc_valid = accuracy_score(real_preds_valid, target_valid)\n",
    "    if acc_valid > best_acc:\n",
    "        best_acc = acc_valid\n",
    "        best_n = i\n",
    "print('Наилучшее accuracy по валидационной выборке наблюдается на шаге', best_n, ' и равно', round(best_acc, 3))\n"
   ]
  },
  {
   "cell_type": "markdown",
   "metadata": {},
   "source": [
    "Теперь сделаем все заново, но возьмем количество деревьев n = 125 (+1) и посмотрим, как модель покажет себя на тестовой выборке."
   ]
  },
  {
   "cell_type": "code",
   "execution_count": 12,
   "metadata": {},
   "outputs": [
    {
     "name": "stdout",
     "output_type": "stream",
     "text": [
      "Наилучшее accuracy по валидационной выборке наблюдается на шаге 125  и равно 0.778\n"
     ]
    }
   ],
   "source": [
    "df_train['predictions'] = df_train['is_ultra'].mean()\n",
    "df_valid['predictions'] = df_valid['is_ultra'].mean()\n",
    "n = 126\n",
    "nu = 0.1\n",
    "best_acc = 0\n",
    "trees = []\n",
    "for i in range(n):\n",
    "    df_train['residuals'] = df_train['is_ultra'] - df_train['predictions']\n",
    "    tree = DecisionTreeRegressor(max_depth = 1)\n",
    "    tree.fit(features_train, df_train['residuals'])\n",
    "    df_train['predictions'] += nu * tree.predict(features_train)\n",
    "    real_preds_train = (df_train['predictions']+0.5).astype('int')\n",
    "    \n",
    "    #проверяем accuracy на валидационной выборке и ищем лучшее n\n",
    "    df_valid['predictions'] += nu * tree.predict(features_valid)\n",
    "    real_preds_valid = (df_valid['predictions']+0.5).astype('int')\n",
    "    acc_valid = accuracy_score(real_preds_valid, target_valid)\n",
    "    trees.append(tree)\n",
    "    if acc_valid > best_acc:\n",
    "        best_acc = acc_valid\n",
    "        best_n = i\n",
    "print('Наилучшее accuracy по валидационной выборке наблюдается на шаге', best_n, ' и равно', round(best_acc, 3))"
   ]
  },
  {
   "cell_type": "code",
   "execution_count": 13,
   "metadata": {},
   "outputs": [
    {
     "name": "stdout",
     "output_type": "stream",
     "text": [
      "Accuracy по тестовой выборке на получившейся модели градиентного бустинга над решающими деревьями: 0.796\n"
     ]
    }
   ],
   "source": [
    "df_test['predictions'] = df_test['is_ultra'].mean()\n",
    "for tree in trees:\n",
    "    df_test['predictions'] += nu * tree.predict(features_test)\n",
    "real_preds_test = (df_test['predictions']+0.5).astype('int')\n",
    "acc_test = accuracy_score(real_preds_test, target_test)\n",
    "print('Accuracy по тестовой выборке на получившейся модели градиентного бустинга над решающими деревьями:', round(acc_test, 3))"
   ]
  },
  {
   "cell_type": "markdown",
   "metadata": {},
   "source": [
    "### Кажется, у меня получилось!\n",
    "<a id='step_15'></a>\n",
    "Да, градиентный бустинг над решающими деревьями дал лучший результат по тестовой выборке, хотя по валидационной немного уступает. Тест на адекватность тоже проходим, поскольку `accuracy` лучшего константного предсказания меньше примерно на 10%."
   ]
  },
  {
   "cell_type": "markdown",
   "metadata": {},
   "source": [
    "## Подводим итоги\n",
    "<a id='step_16'></a>\n",
    "Мы \"покрутили\" 4 разные модели и оценили точность их предсказаний посредством accuracy_score(). Наилушие результаты показали решеющее дерево, случайный лес и модель, получившаяся в результате градиентного бустинга над решающими деревьями. Обе модели прошли проверку на адекватность. <br>\n",
    "Однако существует противоречие между accuracy по валидационной и тестовой выборкам. По валидационной выигрывает случайный лес, по тестовой - бустинг. Если взять во внимание такой показатель как скорость, то случаный лес проигрывает двум другим. Составим матрицу с плюсами и минусами?"
   ]
  },
  {
   "cell_type": "code",
   "execution_count": 14,
   "metadata": {},
   "outputs": [
    {
     "data": {
      "text/html": [
       "<div>\n",
       "<style scoped>\n",
       "    .dataframe tbody tr th:only-of-type {\n",
       "        vertical-align: middle;\n",
       "    }\n",
       "\n",
       "    .dataframe tbody tr th {\n",
       "        vertical-align: top;\n",
       "    }\n",
       "\n",
       "    .dataframe thead th {\n",
       "        text-align: right;\n",
       "    }\n",
       "</style>\n",
       "<table border=\"1\" class=\"dataframe\">\n",
       "  <thead>\n",
       "    <tr style=\"text-align: right;\">\n",
       "      <th></th>\n",
       "      <th>Дерево</th>\n",
       "      <th>Лес</th>\n",
       "      <th>Бустинг</th>\n",
       "    </tr>\n",
       "  </thead>\n",
       "  <tbody>\n",
       "    <tr>\n",
       "      <th>Accuracy по валидационной</th>\n",
       "      <td>-</td>\n",
       "      <td>+</td>\n",
       "      <td>-</td>\n",
       "    </tr>\n",
       "    <tr>\n",
       "      <th>Accuracy по тестовой</th>\n",
       "      <td>-</td>\n",
       "      <td>-</td>\n",
       "      <td>+</td>\n",
       "    </tr>\n",
       "    <tr>\n",
       "      <th>Скорость</th>\n",
       "      <td>+</td>\n",
       "      <td>-</td>\n",
       "      <td>+</td>\n",
       "    </tr>\n",
       "  </tbody>\n",
       "</table>\n",
       "</div>"
      ],
      "text/plain": [
       "                          Дерево Лес Бустинг\n",
       "Accuracy по валидационной      -   +       -\n",
       "Accuracy по тестовой           -   -       +\n",
       "Скорость                       +   -       +"
      ]
     },
     "execution_count": 14,
     "metadata": {},
     "output_type": "execute_result"
    }
   ],
   "source": [
    "score_matrix = pd.DataFrame(columns = ['Дерево', 'Лес', 'Бустинг'], index = ['Accuracy по валидационной', 'Accuracy по тестовой', 'Скорость'], data = [['-', '+', '-'], ['-', '-', '+'], ['+', '-', '+']])         \n",
    "score_matrix "
   ]
  },
  {
   "cell_type": "markdown",
   "metadata": {},
   "source": [
    "Так, мы получаем победителя: Градиентный бустинг над решающими деревьями! Модель записана в `trees`.<br>\n",
    "<br>\n",
    "P.s. Но если мы сравним дерево и бустинг, будет ничья, так как у дерева лучше `accuracy` по валидационной выборке, пусть разница и незначительна."
   ]
  }
 ],
 "metadata": {
  "kernelspec": {
   "display_name": "Python 3",
   "language": "python",
   "name": "python3"
  },
  "language_info": {
   "codemirror_mode": {
    "name": "ipython",
    "version": 3
   },
   "file_extension": ".py",
   "mimetype": "text/x-python",
   "name": "python",
   "nbconvert_exporter": "python",
   "pygments_lexer": "ipython3",
   "version": "3.7.6"
  },
  "toc": {
   "base_numbering": 1,
   "nav_menu": {},
   "number_sections": true,
   "sideBar": true,
   "skip_h1_title": false,
   "title_cell": "Table of Contents",
   "title_sidebar": "Contents",
   "toc_cell": false,
   "toc_position": {},
   "toc_section_display": true,
   "toc_window_display": true
  }
 },
 "nbformat": 4,
 "nbformat_minor": 4
}
