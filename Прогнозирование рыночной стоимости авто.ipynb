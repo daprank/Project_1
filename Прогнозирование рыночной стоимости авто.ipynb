{
 "cells": [
  {
   "cell_type": "markdown",
   "metadata": {},
   "source": [
    "# Проект по созданию модели для определения рыночной стоимости автомобиля"
   ]
  },
  {
   "cell_type": "code",
   "execution_count": 3,
   "metadata": {},
   "outputs": [],
   "source": [
    "import pandas as pd\n",
    "import numpy as np\n",
    "from sklearn.model_selection import StratifiedShuffleSplit, RandomizedSearchCV\n",
    "from sklearn.base import BaseEstimator, TransformerMixin\n",
    "from sklearn.impute import SimpleImputer\n",
    "from sklearn.pipeline import Pipeline\n",
    "from sklearn.preprocessing import StandardScaler, OneHotEncoder, OrdinalEncoder\n",
    "from sklearn.linear_model import LinearRegression\n",
    "from sklearn.metrics import mean_squared_error\n",
    "from sklearn.tree import DecisionTreeRegressor\n",
    "from sklearn.ensemble import RandomForestRegressor\n",
    "from lightgbm import LGBMRegressor\n",
    "import matplotlib.pyplot as plt\n",
    "import warnings\n",
    "warnings.filterwarnings('ignore')"
   ]
  },
  {
   "cell_type": "markdown",
   "metadata": {},
   "source": [
    "## Загрузка и обзор данных"
   ]
  },
  {
   "cell_type": "code",
   "execution_count": 4,
   "metadata": {},
   "outputs": [
    {
     "name": "stdout",
     "output_type": "stream",
     "text": [
      "<class 'pandas.core.frame.DataFrame'>\n",
      "RangeIndex: 354369 entries, 0 to 354368\n",
      "Data columns (total 16 columns):\n",
      " #   Column             Non-Null Count   Dtype \n",
      "---  ------             --------------   ----- \n",
      " 0   DateCrawled        354369 non-null  object\n",
      " 1   Price              354369 non-null  int64 \n",
      " 2   VehicleType        316879 non-null  object\n",
      " 3   RegistrationYear   354369 non-null  int64 \n",
      " 4   Gearbox            334536 non-null  object\n",
      " 5   Power              354369 non-null  int64 \n",
      " 6   Model              334664 non-null  object\n",
      " 7   Kilometer          354369 non-null  int64 \n",
      " 8   RegistrationMonth  354369 non-null  int64 \n",
      " 9   FuelType           321474 non-null  object\n",
      " 10  Brand              354369 non-null  object\n",
      " 11  NotRepaired        283215 non-null  object\n",
      " 12  DateCreated        354369 non-null  object\n",
      " 13  NumberOfPictures   354369 non-null  int64 \n",
      " 14  PostalCode         354369 non-null  int64 \n",
      " 15  LastSeen           354369 non-null  object\n",
      "dtypes: int64(7), object(9)\n",
      "memory usage: 43.3+ MB\n",
      "None\n"
     ]
    },
    {
     "data": {
      "text/html": [
       "<div>\n",
       "<style scoped>\n",
       "    .dataframe tbody tr th:only-of-type {\n",
       "        vertical-align: middle;\n",
       "    }\n",
       "\n",
       "    .dataframe tbody tr th {\n",
       "        vertical-align: top;\n",
       "    }\n",
       "\n",
       "    .dataframe thead th {\n",
       "        text-align: right;\n",
       "    }\n",
       "</style>\n",
       "<table border=\"1\" class=\"dataframe\">\n",
       "  <thead>\n",
       "    <tr style=\"text-align: right;\">\n",
       "      <th></th>\n",
       "      <th>DateCrawled</th>\n",
       "      <th>Price</th>\n",
       "      <th>VehicleType</th>\n",
       "      <th>RegistrationYear</th>\n",
       "      <th>Gearbox</th>\n",
       "      <th>Power</th>\n",
       "      <th>Model</th>\n",
       "      <th>Kilometer</th>\n",
       "      <th>RegistrationMonth</th>\n",
       "      <th>FuelType</th>\n",
       "      <th>Brand</th>\n",
       "      <th>NotRepaired</th>\n",
       "      <th>DateCreated</th>\n",
       "      <th>NumberOfPictures</th>\n",
       "      <th>PostalCode</th>\n",
       "      <th>LastSeen</th>\n",
       "    </tr>\n",
       "  </thead>\n",
       "  <tbody>\n",
       "    <tr>\n",
       "      <th>0</th>\n",
       "      <td>2016-03-24 11:52:17</td>\n",
       "      <td>480</td>\n",
       "      <td>NaN</td>\n",
       "      <td>1993</td>\n",
       "      <td>manual</td>\n",
       "      <td>0</td>\n",
       "      <td>golf</td>\n",
       "      <td>150000</td>\n",
       "      <td>0</td>\n",
       "      <td>petrol</td>\n",
       "      <td>volkswagen</td>\n",
       "      <td>NaN</td>\n",
       "      <td>2016-03-24 00:00:00</td>\n",
       "      <td>0</td>\n",
       "      <td>70435</td>\n",
       "      <td>2016-04-07 03:16:57</td>\n",
       "    </tr>\n",
       "    <tr>\n",
       "      <th>1</th>\n",
       "      <td>2016-03-24 10:58:45</td>\n",
       "      <td>18300</td>\n",
       "      <td>coupe</td>\n",
       "      <td>2011</td>\n",
       "      <td>manual</td>\n",
       "      <td>190</td>\n",
       "      <td>NaN</td>\n",
       "      <td>125000</td>\n",
       "      <td>5</td>\n",
       "      <td>gasoline</td>\n",
       "      <td>audi</td>\n",
       "      <td>yes</td>\n",
       "      <td>2016-03-24 00:00:00</td>\n",
       "      <td>0</td>\n",
       "      <td>66954</td>\n",
       "      <td>2016-04-07 01:46:50</td>\n",
       "    </tr>\n",
       "    <tr>\n",
       "      <th>2</th>\n",
       "      <td>2016-03-14 12:52:21</td>\n",
       "      <td>9800</td>\n",
       "      <td>suv</td>\n",
       "      <td>2004</td>\n",
       "      <td>auto</td>\n",
       "      <td>163</td>\n",
       "      <td>grand</td>\n",
       "      <td>125000</td>\n",
       "      <td>8</td>\n",
       "      <td>gasoline</td>\n",
       "      <td>jeep</td>\n",
       "      <td>NaN</td>\n",
       "      <td>2016-03-14 00:00:00</td>\n",
       "      <td>0</td>\n",
       "      <td>90480</td>\n",
       "      <td>2016-04-05 12:47:46</td>\n",
       "    </tr>\n",
       "    <tr>\n",
       "      <th>3</th>\n",
       "      <td>2016-03-17 16:54:04</td>\n",
       "      <td>1500</td>\n",
       "      <td>small</td>\n",
       "      <td>2001</td>\n",
       "      <td>manual</td>\n",
       "      <td>75</td>\n",
       "      <td>golf</td>\n",
       "      <td>150000</td>\n",
       "      <td>6</td>\n",
       "      <td>petrol</td>\n",
       "      <td>volkswagen</td>\n",
       "      <td>no</td>\n",
       "      <td>2016-03-17 00:00:00</td>\n",
       "      <td>0</td>\n",
       "      <td>91074</td>\n",
       "      <td>2016-03-17 17:40:17</td>\n",
       "    </tr>\n",
       "    <tr>\n",
       "      <th>4</th>\n",
       "      <td>2016-03-31 17:25:20</td>\n",
       "      <td>3600</td>\n",
       "      <td>small</td>\n",
       "      <td>2008</td>\n",
       "      <td>manual</td>\n",
       "      <td>69</td>\n",
       "      <td>fabia</td>\n",
       "      <td>90000</td>\n",
       "      <td>7</td>\n",
       "      <td>gasoline</td>\n",
       "      <td>skoda</td>\n",
       "      <td>no</td>\n",
       "      <td>2016-03-31 00:00:00</td>\n",
       "      <td>0</td>\n",
       "      <td>60437</td>\n",
       "      <td>2016-04-06 10:17:21</td>\n",
       "    </tr>\n",
       "  </tbody>\n",
       "</table>\n",
       "</div>"
      ],
      "text/plain": [
       "           DateCrawled  Price VehicleType  RegistrationYear Gearbox  Power  \\\n",
       "0  2016-03-24 11:52:17    480         NaN              1993  manual      0   \n",
       "1  2016-03-24 10:58:45  18300       coupe              2011  manual    190   \n",
       "2  2016-03-14 12:52:21   9800         suv              2004    auto    163   \n",
       "3  2016-03-17 16:54:04   1500       small              2001  manual     75   \n",
       "4  2016-03-31 17:25:20   3600       small              2008  manual     69   \n",
       "\n",
       "   Model  Kilometer  RegistrationMonth  FuelType       Brand NotRepaired  \\\n",
       "0   golf     150000                  0    petrol  volkswagen         NaN   \n",
       "1    NaN     125000                  5  gasoline        audi         yes   \n",
       "2  grand     125000                  8  gasoline        jeep         NaN   \n",
       "3   golf     150000                  6    petrol  volkswagen          no   \n",
       "4  fabia      90000                  7  gasoline       skoda          no   \n",
       "\n",
       "           DateCreated  NumberOfPictures  PostalCode             LastSeen  \n",
       "0  2016-03-24 00:00:00                 0       70435  2016-04-07 03:16:57  \n",
       "1  2016-03-24 00:00:00                 0       66954  2016-04-07 01:46:50  \n",
       "2  2016-03-14 00:00:00                 0       90480  2016-04-05 12:47:46  \n",
       "3  2016-03-17 00:00:00                 0       91074  2016-03-17 17:40:17  \n",
       "4  2016-03-31 00:00:00                 0       60437  2016-04-06 10:17:21  "
      ]
     },
     "metadata": {},
     "output_type": "display_data"
    }
   ],
   "source": [
    "initial_df = pd.read_csv('/Users/semionkaminsky/Desktop/YP/Numerical methods/autos.csv')\n",
    "print(initial_df.info())\n",
    "display(initial_df.head())"
   ]
  },
  {
   "cell_type": "markdown",
   "metadata": {},
   "source": [
    "Видим, что есть, над чем работать: пропуски, категориальные переменные, даты. Для начала немного подробнее остановимся на категориальных и численных переменных."
   ]
  },
  {
   "cell_type": "code",
   "execution_count": 6,
   "metadata": {},
   "outputs": [],
   "source": [
    "df = initial_df\n",
    "df.columns = df.columns.str.lower()"
   ]
  },
  {
   "cell_type": "code",
   "execution_count": 7,
   "metadata": {},
   "outputs": [
    {
     "data": {
      "text/plain": [
       "volkswagen        77013\n",
       "opel              39931\n",
       "bmw               36914\n",
       "mercedes_benz     32046\n",
       "audi              29456\n",
       "ford              25179\n",
       "renault           17927\n",
       "peugeot           10998\n",
       "fiat               9643\n",
       "seat               6907\n",
       "mazda              5615\n",
       "skoda              5500\n",
       "smart              5246\n",
       "citroen            5148\n",
       "nissan             4941\n",
       "toyota             4606\n",
       "hyundai            3587\n",
       "sonstige_autos     3374\n",
       "volvo              3210\n",
       "mini               3202\n",
       "mitsubishi         3022\n",
       "honda              2817\n",
       "kia                2465\n",
       "suzuki             2323\n",
       "alfa_romeo         2314\n",
       "chevrolet          1754\n",
       "chrysler           1439\n",
       "dacia               900\n",
       "daihatsu            806\n",
       "subaru              762\n",
       "porsche             758\n",
       "jeep                677\n",
       "trabant             589\n",
       "land_rover          545\n",
       "daewoo              542\n",
       "saab                526\n",
       "jaguar              505\n",
       "rover               486\n",
       "lancia              471\n",
       "lada                225\n",
       "Name: brand, dtype: int64"
      ]
     },
     "metadata": {},
     "output_type": "display_data"
    },
    {
     "data": {
      "text/plain": [
       "sedan          91457\n",
       "small          79831\n",
       "wagon          65166\n",
       "bus            28775\n",
       "convertible    20203\n",
       "coupe          16163\n",
       "suv            11996\n",
       "other           3288\n",
       "Name: vehicletype, dtype: int64"
      ]
     },
     "metadata": {},
     "output_type": "display_data"
    },
    {
     "data": {
      "text/plain": [
       "golf                  29232\n",
       "other                 24421\n",
       "3er                   19761\n",
       "polo                  13066\n",
       "corsa                 12570\n",
       "                      ...  \n",
       "serie_2                   8\n",
       "rangerover                4\n",
       "serie_3                   4\n",
       "serie_1                   2\n",
       "range_rover_evoque        2\n",
       "Name: model, Length: 250, dtype: int64"
      ]
     },
     "metadata": {},
     "output_type": "display_data"
    },
    {
     "data": {
      "text/plain": [
       "2000    24490\n",
       "1999    22728\n",
       "2005    22109\n",
       "2001    20124\n",
       "2006    19900\n",
       "        ...  \n",
       "4100        1\n",
       "1200        1\n",
       "5300        1\n",
       "8888        1\n",
       "2290        1\n",
       "Name: registrationyear, Length: 151, dtype: int64"
      ]
     },
     "metadata": {},
     "output_type": "display_data"
    },
    {
     "data": {
      "text/plain": [
       "manual    268251\n",
       "auto       66285\n",
       "Name: gearbox, dtype: int64"
      ]
     },
     "metadata": {},
     "output_type": "display_data"
    },
    {
     "data": {
      "text/plain": [
       "petrol      216352\n",
       "gasoline     98720\n",
       "lpg           5310\n",
       "cng            565\n",
       "hybrid         233\n",
       "other          204\n",
       "electric        90\n",
       "Name: fueltype, dtype: int64"
      ]
     },
     "metadata": {},
     "output_type": "display_data"
    },
    {
     "data": {
      "text/plain": [
       "no     247161\n",
       "yes     36054\n",
       "Name: notrepaired, dtype: int64"
      ]
     },
     "metadata": {},
     "output_type": "display_data"
    },
    {
     "data": {
      "text/plain": [
       "10115    819\n",
       "65428    613\n",
       "66333    343\n",
       "32257    317\n",
       "44145    317\n",
       "        ... \n",
       "21782      1\n",
       "9517       1\n",
       "29367      1\n",
       "38325      1\n",
       "82404      1\n",
       "Name: postalcode, Length: 8143, dtype: int64"
      ]
     },
     "metadata": {},
     "output_type": "display_data"
    },
    {
     "data": {
      "text/plain": [
       "0     37352\n",
       "3     34373\n",
       "6     31508\n",
       "4     29270\n",
       "5     29153\n",
       "7     27213\n",
       "10    26099\n",
       "12    24289\n",
       "11    24186\n",
       "9     23813\n",
       "1     23219\n",
       "8     22627\n",
       "2     21267\n",
       "Name: registrationmonth, dtype: int64"
      ]
     },
     "metadata": {},
     "output_type": "display_data"
    }
   ],
   "source": [
    "cat_columns = ['brand', 'vehicletype', 'model', 'registrationyear', 'gearbox', 'fueltype', 'notrepaired', 'postalcode', 'registrationmonth']\n",
    "for cat in cat_columns:\n",
    "    display(df[cat].value_counts())"
   ]
  },
  {
   "cell_type": "markdown",
   "metadata": {},
   "source": [
    "Промежуточный комментарий:\n",
    "1. `vehicletype`, `registrationmonth` и `fueltype` - легко поддадутся OHE.\n",
    "2. `gearbox` и `notrepaired` - переквалифицируем в логические.\n",
    "3. Очень хорошо видны ошибки в `registrationyear`: там и машины из будущего, и до непосредственного изобретения автомобилей. Одним словом, претенденты на удаление.\n",
    "4. В столбце `model` тоже достаточно много уникальных значений. Но возможно стоит выделить самые частые модели, а остальные отправить в \"other\"\n",
    "5. В `postalcode` много разных вариантов значений. На самом деле, довольно интересная переменная. По факту она характеризует географическое положения региона продажи. С одной стороны, это хорошо, потому что у нас есть численная репрезентация местоположения. Однако тут могут возникать сложности из-за того, что сама переменная не числовая (если сложить два почтовых индекса, мы получим кусочек мусора), а применить кодировку сложно из-за количества уникальных значений. Возможно, имеет смысл \"разбить\" этот рейндж индексов на n географических искусственных категорий и применить OHE. Потом посмотрим, что из этого получится."
   ]
  },
  {
   "cell_type": "code",
   "execution_count": 8,
   "metadata": {},
   "outputs": [
    {
     "data": {
      "text/html": [
       "<div>\n",
       "<style scoped>\n",
       "    .dataframe tbody tr th:only-of-type {\n",
       "        vertical-align: middle;\n",
       "    }\n",
       "\n",
       "    .dataframe tbody tr th {\n",
       "        vertical-align: top;\n",
       "    }\n",
       "\n",
       "    .dataframe thead th {\n",
       "        text-align: right;\n",
       "    }\n",
       "</style>\n",
       "<table border=\"1\" class=\"dataframe\">\n",
       "  <thead>\n",
       "    <tr style=\"text-align: right;\">\n",
       "      <th></th>\n",
       "      <th>price</th>\n",
       "      <th>registrationyear</th>\n",
       "      <th>power</th>\n",
       "      <th>kilometer</th>\n",
       "      <th>registrationmonth</th>\n",
       "      <th>numberofpictures</th>\n",
       "      <th>postalcode</th>\n",
       "    </tr>\n",
       "  </thead>\n",
       "  <tbody>\n",
       "    <tr>\n",
       "      <th>count</th>\n",
       "      <td>354369.000000</td>\n",
       "      <td>354369.000000</td>\n",
       "      <td>354369.000000</td>\n",
       "      <td>354369.000000</td>\n",
       "      <td>354369.000000</td>\n",
       "      <td>354369.0</td>\n",
       "      <td>354369.000000</td>\n",
       "    </tr>\n",
       "    <tr>\n",
       "      <th>mean</th>\n",
       "      <td>4416.656776</td>\n",
       "      <td>2004.234448</td>\n",
       "      <td>110.094337</td>\n",
       "      <td>128211.172535</td>\n",
       "      <td>5.714645</td>\n",
       "      <td>0.0</td>\n",
       "      <td>50508.689087</td>\n",
       "    </tr>\n",
       "    <tr>\n",
       "      <th>std</th>\n",
       "      <td>4514.158514</td>\n",
       "      <td>90.227958</td>\n",
       "      <td>189.850405</td>\n",
       "      <td>37905.341530</td>\n",
       "      <td>3.726421</td>\n",
       "      <td>0.0</td>\n",
       "      <td>25783.096248</td>\n",
       "    </tr>\n",
       "    <tr>\n",
       "      <th>min</th>\n",
       "      <td>0.000000</td>\n",
       "      <td>1000.000000</td>\n",
       "      <td>0.000000</td>\n",
       "      <td>5000.000000</td>\n",
       "      <td>0.000000</td>\n",
       "      <td>0.0</td>\n",
       "      <td>1067.000000</td>\n",
       "    </tr>\n",
       "    <tr>\n",
       "      <th>25%</th>\n",
       "      <td>1050.000000</td>\n",
       "      <td>1999.000000</td>\n",
       "      <td>69.000000</td>\n",
       "      <td>125000.000000</td>\n",
       "      <td>3.000000</td>\n",
       "      <td>0.0</td>\n",
       "      <td>30165.000000</td>\n",
       "    </tr>\n",
       "    <tr>\n",
       "      <th>50%</th>\n",
       "      <td>2700.000000</td>\n",
       "      <td>2003.000000</td>\n",
       "      <td>105.000000</td>\n",
       "      <td>150000.000000</td>\n",
       "      <td>6.000000</td>\n",
       "      <td>0.0</td>\n",
       "      <td>49413.000000</td>\n",
       "    </tr>\n",
       "    <tr>\n",
       "      <th>75%</th>\n",
       "      <td>6400.000000</td>\n",
       "      <td>2008.000000</td>\n",
       "      <td>143.000000</td>\n",
       "      <td>150000.000000</td>\n",
       "      <td>9.000000</td>\n",
       "      <td>0.0</td>\n",
       "      <td>71083.000000</td>\n",
       "    </tr>\n",
       "    <tr>\n",
       "      <th>max</th>\n",
       "      <td>20000.000000</td>\n",
       "      <td>9999.000000</td>\n",
       "      <td>20000.000000</td>\n",
       "      <td>150000.000000</td>\n",
       "      <td>12.000000</td>\n",
       "      <td>0.0</td>\n",
       "      <td>99998.000000</td>\n",
       "    </tr>\n",
       "  </tbody>\n",
       "</table>\n",
       "</div>"
      ],
      "text/plain": [
       "               price  registrationyear          power      kilometer  \\\n",
       "count  354369.000000     354369.000000  354369.000000  354369.000000   \n",
       "mean     4416.656776       2004.234448     110.094337  128211.172535   \n",
       "std      4514.158514         90.227958     189.850405   37905.341530   \n",
       "min         0.000000       1000.000000       0.000000    5000.000000   \n",
       "25%      1050.000000       1999.000000      69.000000  125000.000000   \n",
       "50%      2700.000000       2003.000000     105.000000  150000.000000   \n",
       "75%      6400.000000       2008.000000     143.000000  150000.000000   \n",
       "max     20000.000000       9999.000000   20000.000000  150000.000000   \n",
       "\n",
       "       registrationmonth  numberofpictures     postalcode  \n",
       "count      354369.000000          354369.0  354369.000000  \n",
       "mean            5.714645               0.0   50508.689087  \n",
       "std             3.726421               0.0   25783.096248  \n",
       "min             0.000000               0.0    1067.000000  \n",
       "25%             3.000000               0.0   30165.000000  \n",
       "50%             6.000000               0.0   49413.000000  \n",
       "75%             9.000000               0.0   71083.000000  \n",
       "max            12.000000               0.0   99998.000000  "
      ]
     },
     "execution_count": 8,
     "metadata": {},
     "output_type": "execute_result"
    }
   ],
   "source": [
    "df.describe()"
   ]
  },
  {
   "cell_type": "code",
   "execution_count": 9,
   "metadata": {},
   "outputs": [
    {
     "data": {
      "text/plain": [
       "array([[<AxesSubplot:title={'center':'price'}>,\n",
       "        <AxesSubplot:title={'center':'registrationyear'}>,\n",
       "        <AxesSubplot:title={'center':'power'}>],\n",
       "       [<AxesSubplot:title={'center':'kilometer'}>,\n",
       "        <AxesSubplot:title={'center':'registrationmonth'}>,\n",
       "        <AxesSubplot:title={'center':'numberofpictures'}>],\n",
       "       [<AxesSubplot:title={'center':'postalcode'}>, <AxesSubplot:>,\n",
       "        <AxesSubplot:>]], dtype=object)"
      ]
     },
     "execution_count": 9,
     "metadata": {},
     "output_type": "execute_result"
    },
    {
     "data": {
      "image/png": "[encoded data removed]",
      "text/plain": [
       "<Figure size 1080x720 with 9 Axes>"
      ]
     },
     "metadata": {
      "needs_background": "light"
     },
     "output_type": "display_data"
    }
   ],
   "source": [
    "df.hist(figsize = (15, 10), bins = 50)"
   ]
  },
  {
   "cell_type": "code",
   "execution_count": 10,
   "metadata": {},
   "outputs": [
    {
     "name": "stdout",
     "output_type": "stream",
     "text": [
      "[0]\n"
     ]
    }
   ],
   "source": [
    "print(df['numberofpictures'].unique())\n",
    "df.drop('numberofpictures', axis = 1, inplace = True)"
   ]
  },
  {
   "cell_type": "markdown",
   "metadata": {},
   "source": [
    "Плохо видно, что происходит с power. Разобъем на 2 гистограммы и посмотрим."
   ]
  },
  {
   "cell_type": "code",
   "execution_count": 11,
   "metadata": {},
   "outputs": [
    {
     "data": {
      "text/plain": [
       "<AxesSubplot:>"
      ]
     },
     "execution_count": 11,
     "metadata": {},
     "output_type": "execute_result"
    },
    {
     "data": {
      "image/png": "[encoded data removed]",
      "text/plain": [
       "<Figure size 432x288 with 1 Axes>"
      ]
     },
     "metadata": {
      "needs_background": "light"
     },
     "output_type": "display_data"
    }
   ],
   "source": [
    "df['power'].hist(bins = 80, range = (0, 800))"
   ]
  },
  {
   "cell_type": "code",
   "execution_count": 12,
   "metadata": {},
   "outputs": [
    {
     "data": {
      "text/plain": [
       "<AxesSubplot:>"
      ]
     },
     "execution_count": 12,
     "metadata": {},
     "output_type": "execute_result"
    },
    {
     "data": {
      "image/png": "[encoded data removed]",
      "text/plain": [
       "<Figure size 432x288 with 1 Axes>"
      ]
     },
     "metadata": {
      "needs_background": "light"
     },
     "output_type": "display_data"
    }
   ],
   "source": [
    "df['power'].hist(bins = 50, range = (800, 5000))"
   ]
  },
  {
   "cell_type": "markdown",
   "metadata": {},
   "source": [
    "1. И что мы видим? Бросается в глаза, что в `numberofpictures` только нули и есть. Сразу проверили - сразу удалили. Нечего хлам держать.\n",
    "2. `price` - если честно, ожидал нормальное распределение. В итоге получили Пуассона. Что странно: есть совсем низкие цены (до 300 евро). Их придется удалить - это выглядит как набор \"случайных\" объявлений или ситуаций, когда человек \"сливает\" машину. Хорошо бы спросить у заказчика, что это такое, но сейчас мы можем только удалить эти наблюдения из всего датасета.\n",
    "3. По гистограмме `registrationyear` еще раз убедимся, что выбросы есть. Но их, по видимому, немного - это радует.\n",
    "4. `postalcode` - скорее всего, это равномерное распределение с большим влиянием шумов.\n",
    "5. `registrationmonth` - примерно поровну.\n",
    "6. В `power` видим много выбросов. Нужно будет определить \"адекватный\" отрезок мощности и заполнить \"хвост\" медианными значениями. Или совсем убрать - посмотрим.\n",
    "7. По таблице распределений мы можем сделать довольно интересное наблюдение: у большинства числовых параметров есть очень \"ровная\" граница. Напрашивается вывод, что она могла быть задана искусственно. Посмотрим, что можно сделать."
   ]
  },
  {
   "cell_type": "markdown",
   "metadata": {},
   "source": [
    "### План предобработки данных:\n",
    "#### Категориальные, логические переменные и даты\n",
    "1. [x] `vehicletype` заполним по моде. Также, переведем в численный вид. \n",
    "1. [x] С `gearbox` поступим так же, как и  с`vehicletype`.\n",
    "1. [x] С `fueltype` поступим так же, как с `vehicletype`.\n",
    "1. [x] С `notrepaired` поступим так же, как с `vehicletype`.\n",
    "1. [x] `registrationyear` - удалим строки со значениями больше 2021 и меньше 1970 (вряд ли они в ходу). Возможно, получится применить OHE.\n",
    "1. [x] Пропуски в `model` заполним с значением \"other\". Также, посмотрим, можно ли выделить несколько \"главных\" моделей, а остальные отправить в \"other\". Возможно, тут получится кодировать данные.\n",
    "1. [x] Для `registrationmonth` применим OHE.\n",
    "1. [x] К `brand` применим OHE.\n",
    "1. [x] `postalcode` поделим на 10 категорий и применим OHE.\n",
    "1. [x] `datecrawled`, `lastseen` и `datecreated` округлим до дня. Вообще вряд ли они имеют большое значение, но хотя бы так обработаем.\n",
    "\n",
    "#### Числовые переменные\n",
    "1. [x] Для `power` определим адекватный максимум, и удалим все значения, его превышающие.\n",
    "1. [x] Далее сделаем единый пайплайн для числовых значений с заполнением пропусков с помощью Imputer, стандартизацией StandardScaler"
   ]
  },
  {
   "cell_type": "code",
   "execution_count": 13,
   "metadata": {},
   "outputs": [],
   "source": [
    "# СРАЗУ УДАЛЯЕМ СТРОКИ В СООТВЕТСТВИИ С УСЛОВИЕМ\n",
    "df = df.drop(df.query(\n",
    "    'registrationyear > 2021 or registrationyear < 1970 or power > 800 or price < 300 or power < 60').index)"
   ]
  },
  {
   "cell_type": "code",
   "execution_count": 14,
   "metadata": {},
   "outputs": [],
   "source": [
    "#НАПИШЕМ КЛАСС ДЛЯ ТОГО, ЧТОБЫ УДОБНО ВСТРАИВАТЬ ВЫБОР ОБРАБАТЫВАЕМЫХ ИЗМЕРЕНИЙ В ПАЙПЛАЙН\n",
    "class DataFrameSelector(BaseEstimator, TransformerMixin):\n",
    "    def __init__(self, attributes):\n",
    "        self.attributes = attributes\n",
    "    def fit(self, X, y = None):\n",
    "        return self\n",
    "    def transform(self, X):\n",
    "        return X[self.attributes]"
   ]
  },
  {
   "cell_type": "code",
   "execution_count": 15,
   "metadata": {},
   "outputs": [],
   "source": [
    "num_names = ['power', 'kilometer']\n",
    "#ОСНОВНАЯ ОБРАБОТКА ЧИСЛЕННЫХ ПРЕМЕННЫХ\n",
    "num_pipeline = Pipeline([\n",
    "    ('num_selector', DataFrameSelector(attributes = num_names)),\n",
    "    ('imputer', SimpleImputer(strategy = 'median')), #заполним пропуски с помощью SimpleImputer\n",
    "    #('stdscaler', StandardScaler()) #стандартизация данных для улучшения качества линейной регрессии\n",
    "])\n",
    "#переведем численную часть подготовленных данных в DataFrame для удобства работы с индексами при будущем объединении всего датасета\n",
    "nums = pd.DataFrame(num_pipeline.fit_transform(df), columns = num_names)"
   ]
  },
  {
   "cell_type": "code",
   "execution_count": 16,
   "metadata": {},
   "outputs": [],
   "source": [
    "dates_names = ['lastseen', 'datecreated', 'datecrawled']\n",
    "#ПЕРЕВОДИМ ДАТЫ В СООТВЕТСТВУЮЩИЙ ФОРМАТ И ОКРУГЛЯЕМ ДО ДНЯ\n",
    "for name in dates_names:\n",
    "    df[name] = pd.to_datetime(df[name]).dt.round('D')\n",
    "dates = df[dates_names]\n",
    "dates.index = nums.index\n",
    "\n",
    "#ЧТОБЫ ПЕРЕВЕСТИ В ЧИСЛЕННЫЙ ВИД, РАЗБИВАЕМ КАЖДЫЙ СТОЛБЕЦ НА ТРИ: ДЕНЬ НЕДЕЛИ, ГОД, МЕСЯЦ\n",
    "def weekday(date):\n",
    "    return date.weekday()\n",
    "def year(date):\n",
    "    return date.year\n",
    "def month(date):\n",
    "    return date.month\n",
    "\n",
    "timeline = [weekday, year, month]\n",
    "dates_prepared = pd.DataFrame(index = dates.index)\n",
    "for name in dates_names:\n",
    "    for time in timeline:\n",
    "        dates_prepared = pd.merge(dates_prepared, dates[name].apply(time), left_index = True, right_index = True)"
   ]
  },
  {
   "cell_type": "code",
   "execution_count": 17,
   "metadata": {},
   "outputs": [],
   "source": [
    "df['model'] = df['model'].fillna('other') #пропуски в model заполняем значением other\n",
    "df['postal_cat'] = np.ceil(df['postalcode'] / 15000) #получаем категории индекса в столбец postal_cat\n",
    "gr1_names = ['vehicletype', 'gearbox', 'fueltype', 'notrepaired'] #те переменные, которые мы решили заполнить по моде\n",
    "mode_imputer = SimpleImputer(strategy = 'most_frequent') #для заполнения используем SimpleImputer\n",
    "df[gr1_names] = mode_imputer.fit_transform(df[gr1_names])\n",
    "\n",
    "df = pd.merge(df.drop(dates_names, axis = 1), dates_prepared, left_index = True, right_index = True)\n",
    "\n",
    "#К ОСНОВНЫМ КАТЕГОРИАЛЬНЫМ ПЕРЕМЕННЫМ ДОБАВИМ ЗАРАНЕЕ ПОДГОТОВЛЕННЫЕ ДАТЫ, ЧТОБЫ ИСПОЛЬЗОВАТЬ НА НИХ OHE\n",
    "cat_names = ['vehicletype', 'gearbox', 'fueltype', 'notrepaired', 'registrationyear', \n",
    "             'model', 'registrationmonth', 'brand', 'postal_cat'] + list(dates_prepared.columns) \n",
    "\n",
    "#ОСНОВНАЯ ОБРАБОТКА КАТЕГОРИАЛЬНЫХ ПЕРЕМЕННЫХ\n",
    "cat_pipeline = Pipeline([\n",
    "    ('cat_selector', DataFrameSelector(attributes = cat_names)),\n",
    "    ('OHE', OneHotEncoder(drop = 'first', sparse = False))\n",
    "])\n",
    "#переведем категориальную часть подготовленных данных в DataFrame для удобства работы с индексами при будущем объединении всего датасета\n",
    "cats = pd.DataFrame(cat_pipeline.fit_transform(df))"
   ]
  },
  {
   "cell_type": "code",
   "execution_count": 18,
   "metadata": {},
   "outputs": [
    {
     "data": {
      "text/html": [
       "<div>\n",
       "<style scoped>\n",
       "    .dataframe tbody tr th:only-of-type {\n",
       "        vertical-align: middle;\n",
       "    }\n",
       "\n",
       "    .dataframe tbody tr th {\n",
       "        vertical-align: top;\n",
       "    }\n",
       "\n",
       "    .dataframe thead th {\n",
       "        text-align: right;\n",
       "    }\n",
       "</style>\n",
       "<table border=\"1\" class=\"dataframe\">\n",
       "  <thead>\n",
       "    <tr style=\"text-align: right;\">\n",
       "      <th></th>\n",
       "      <th>power</th>\n",
       "      <th>kilometer</th>\n",
       "      <th>0</th>\n",
       "      <th>1</th>\n",
       "      <th>2</th>\n",
       "      <th>3</th>\n",
       "      <th>4</th>\n",
       "      <th>5</th>\n",
       "      <th>6</th>\n",
       "      <th>7</th>\n",
       "      <th>...</th>\n",
       "      <th>385</th>\n",
       "      <th>386</th>\n",
       "      <th>387</th>\n",
       "      <th>388</th>\n",
       "      <th>389</th>\n",
       "      <th>390</th>\n",
       "      <th>391</th>\n",
       "      <th>392</th>\n",
       "      <th>393</th>\n",
       "      <th>394</th>\n",
       "    </tr>\n",
       "  </thead>\n",
       "  <tbody>\n",
       "    <tr>\n",
       "      <th>0</th>\n",
       "      <td>190.0</td>\n",
       "      <td>125000.0</td>\n",
       "      <td>0.0</td>\n",
       "      <td>1.0</td>\n",
       "      <td>0.0</td>\n",
       "      <td>0.0</td>\n",
       "      <td>0.0</td>\n",
       "      <td>0.0</td>\n",
       "      <td>0.0</td>\n",
       "      <td>1.0</td>\n",
       "      <td>...</td>\n",
       "      <td>0.0</td>\n",
       "      <td>0.0</td>\n",
       "      <td>0.0</td>\n",
       "      <td>1.0</td>\n",
       "      <td>0.0</td>\n",
       "      <td>0.0</td>\n",
       "      <td>0.0</td>\n",
       "      <td>0.0</td>\n",
       "      <td>0.0</td>\n",
       "      <td>0.0</td>\n",
       "    </tr>\n",
       "    <tr>\n",
       "      <th>1</th>\n",
       "      <td>163.0</td>\n",
       "      <td>125000.0</td>\n",
       "      <td>0.0</td>\n",
       "      <td>0.0</td>\n",
       "      <td>0.0</td>\n",
       "      <td>0.0</td>\n",
       "      <td>0.0</td>\n",
       "      <td>1.0</td>\n",
       "      <td>0.0</td>\n",
       "      <td>0.0</td>\n",
       "      <td>...</td>\n",
       "      <td>0.0</td>\n",
       "      <td>0.0</td>\n",
       "      <td>0.0</td>\n",
       "      <td>0.0</td>\n",
       "      <td>0.0</td>\n",
       "      <td>0.0</td>\n",
       "      <td>1.0</td>\n",
       "      <td>0.0</td>\n",
       "      <td>0.0</td>\n",
       "      <td>0.0</td>\n",
       "    </tr>\n",
       "    <tr>\n",
       "      <th>2</th>\n",
       "      <td>75.0</td>\n",
       "      <td>150000.0</td>\n",
       "      <td>0.0</td>\n",
       "      <td>0.0</td>\n",
       "      <td>0.0</td>\n",
       "      <td>0.0</td>\n",
       "      <td>1.0</td>\n",
       "      <td>0.0</td>\n",
       "      <td>0.0</td>\n",
       "      <td>1.0</td>\n",
       "      <td>...</td>\n",
       "      <td>0.0</td>\n",
       "      <td>0.0</td>\n",
       "      <td>0.0</td>\n",
       "      <td>0.0</td>\n",
       "      <td>0.0</td>\n",
       "      <td>0.0</td>\n",
       "      <td>1.0</td>\n",
       "      <td>0.0</td>\n",
       "      <td>0.0</td>\n",
       "      <td>1.0</td>\n",
       "    </tr>\n",
       "    <tr>\n",
       "      <th>3</th>\n",
       "      <td>69.0</td>\n",
       "      <td>90000.0</td>\n",
       "      <td>0.0</td>\n",
       "      <td>0.0</td>\n",
       "      <td>0.0</td>\n",
       "      <td>0.0</td>\n",
       "      <td>1.0</td>\n",
       "      <td>0.0</td>\n",
       "      <td>0.0</td>\n",
       "      <td>1.0</td>\n",
       "      <td>...</td>\n",
       "      <td>0.0</td>\n",
       "      <td>0.0</td>\n",
       "      <td>0.0</td>\n",
       "      <td>1.0</td>\n",
       "      <td>0.0</td>\n",
       "      <td>0.0</td>\n",
       "      <td>0.0</td>\n",
       "      <td>0.0</td>\n",
       "      <td>0.0</td>\n",
       "      <td>1.0</td>\n",
       "    </tr>\n",
       "    <tr>\n",
       "      <th>4</th>\n",
       "      <td>102.0</td>\n",
       "      <td>150000.0</td>\n",
       "      <td>0.0</td>\n",
       "      <td>0.0</td>\n",
       "      <td>0.0</td>\n",
       "      <td>1.0</td>\n",
       "      <td>0.0</td>\n",
       "      <td>0.0</td>\n",
       "      <td>0.0</td>\n",
       "      <td>1.0</td>\n",
       "      <td>...</td>\n",
       "      <td>0.0</td>\n",
       "      <td>0.0</td>\n",
       "      <td>0.0</td>\n",
       "      <td>0.0</td>\n",
       "      <td>0.0</td>\n",
       "      <td>0.0</td>\n",
       "      <td>0.0</td>\n",
       "      <td>1.0</td>\n",
       "      <td>0.0</td>\n",
       "      <td>1.0</td>\n",
       "    </tr>\n",
       "    <tr>\n",
       "      <th>...</th>\n",
       "      <td>...</td>\n",
       "      <td>...</td>\n",
       "      <td>...</td>\n",
       "      <td>...</td>\n",
       "      <td>...</td>\n",
       "      <td>...</td>\n",
       "      <td>...</td>\n",
       "      <td>...</td>\n",
       "      <td>...</td>\n",
       "      <td>...</td>\n",
       "      <td>...</td>\n",
       "      <td>...</td>\n",
       "      <td>...</td>\n",
       "      <td>...</td>\n",
       "      <td>...</td>\n",
       "      <td>...</td>\n",
       "      <td>...</td>\n",
       "      <td>...</td>\n",
       "      <td>...</td>\n",
       "      <td>...</td>\n",
       "      <td>...</td>\n",
       "    </tr>\n",
       "    <tr>\n",
       "      <th>218111</th>\n",
       "      <td>220.0</td>\n",
       "      <td>150000.0</td>\n",
       "      <td>1.0</td>\n",
       "      <td>0.0</td>\n",
       "      <td>0.0</td>\n",
       "      <td>0.0</td>\n",
       "      <td>0.0</td>\n",
       "      <td>0.0</td>\n",
       "      <td>0.0</td>\n",
       "      <td>0.0</td>\n",
       "      <td>...</td>\n",
       "      <td>0.0</td>\n",
       "      <td>0.0</td>\n",
       "      <td>0.0</td>\n",
       "      <td>0.0</td>\n",
       "      <td>0.0</td>\n",
       "      <td>0.0</td>\n",
       "      <td>0.0</td>\n",
       "      <td>0.0</td>\n",
       "      <td>0.0</td>\n",
       "      <td>1.0</td>\n",
       "    </tr>\n",
       "    <tr>\n",
       "      <th>218112</th>\n",
       "      <td>75.0</td>\n",
       "      <td>80000.0</td>\n",
       "      <td>0.0</td>\n",
       "      <td>0.0</td>\n",
       "      <td>0.0</td>\n",
       "      <td>0.0</td>\n",
       "      <td>0.0</td>\n",
       "      <td>0.0</td>\n",
       "      <td>1.0</td>\n",
       "      <td>1.0</td>\n",
       "      <td>...</td>\n",
       "      <td>0.0</td>\n",
       "      <td>0.0</td>\n",
       "      <td>0.0</td>\n",
       "      <td>1.0</td>\n",
       "      <td>0.0</td>\n",
       "      <td>0.0</td>\n",
       "      <td>0.0</td>\n",
       "      <td>0.0</td>\n",
       "      <td>0.0</td>\n",
       "      <td>0.0</td>\n",
       "    </tr>\n",
       "    <tr>\n",
       "      <th>218113</th>\n",
       "      <td>125.0</td>\n",
       "      <td>150000.0</td>\n",
       "      <td>0.0</td>\n",
       "      <td>0.0</td>\n",
       "      <td>0.0</td>\n",
       "      <td>0.0</td>\n",
       "      <td>0.0</td>\n",
       "      <td>0.0</td>\n",
       "      <td>0.0</td>\n",
       "      <td>1.0</td>\n",
       "      <td>...</td>\n",
       "      <td>0.0</td>\n",
       "      <td>0.0</td>\n",
       "      <td>0.0</td>\n",
       "      <td>0.0</td>\n",
       "      <td>0.0</td>\n",
       "      <td>1.0</td>\n",
       "      <td>0.0</td>\n",
       "      <td>0.0</td>\n",
       "      <td>0.0</td>\n",
       "      <td>0.0</td>\n",
       "    </tr>\n",
       "    <tr>\n",
       "      <th>218114</th>\n",
       "      <td>193.0</td>\n",
       "      <td>150000.0</td>\n",
       "      <td>0.0</td>\n",
       "      <td>0.0</td>\n",
       "      <td>0.0</td>\n",
       "      <td>1.0</td>\n",
       "      <td>0.0</td>\n",
       "      <td>0.0</td>\n",
       "      <td>0.0</td>\n",
       "      <td>0.0</td>\n",
       "      <td>...</td>\n",
       "      <td>0.0</td>\n",
       "      <td>0.0</td>\n",
       "      <td>0.0</td>\n",
       "      <td>0.0</td>\n",
       "      <td>0.0</td>\n",
       "      <td>0.0</td>\n",
       "      <td>0.0</td>\n",
       "      <td>0.0</td>\n",
       "      <td>1.0</td>\n",
       "      <td>0.0</td>\n",
       "    </tr>\n",
       "    <tr>\n",
       "      <th>218115</th>\n",
       "      <td>160.0</td>\n",
       "      <td>150000.0</td>\n",
       "      <td>0.0</td>\n",
       "      <td>0.0</td>\n",
       "      <td>1.0</td>\n",
       "      <td>0.0</td>\n",
       "      <td>0.0</td>\n",
       "      <td>0.0</td>\n",
       "      <td>0.0</td>\n",
       "      <td>1.0</td>\n",
       "      <td>...</td>\n",
       "      <td>0.0</td>\n",
       "      <td>0.0</td>\n",
       "      <td>0.0</td>\n",
       "      <td>0.0</td>\n",
       "      <td>0.0</td>\n",
       "      <td>0.0</td>\n",
       "      <td>0.0</td>\n",
       "      <td>0.0</td>\n",
       "      <td>1.0</td>\n",
       "      <td>0.0</td>\n",
       "    </tr>\n",
       "  </tbody>\n",
       "</table>\n",
       "<p>218116 rows × 397 columns</p>\n",
       "</div>"
      ],
      "text/plain": [
       "        power  kilometer    0    1    2    3    4    5    6    7  ...  385  \\\n",
       "0       190.0   125000.0  0.0  1.0  0.0  0.0  0.0  0.0  0.0  1.0  ...  0.0   \n",
       "1       163.0   125000.0  0.0  0.0  0.0  0.0  0.0  1.0  0.0  0.0  ...  0.0   \n",
       "2        75.0   150000.0  0.0  0.0  0.0  0.0  1.0  0.0  0.0  1.0  ...  0.0   \n",
       "3        69.0    90000.0  0.0  0.0  0.0  0.0  1.0  0.0  0.0  1.0  ...  0.0   \n",
       "4       102.0   150000.0  0.0  0.0  0.0  1.0  0.0  0.0  0.0  1.0  ...  0.0   \n",
       "...       ...        ...  ...  ...  ...  ...  ...  ...  ...  ...  ...  ...   \n",
       "218111  220.0   150000.0  1.0  0.0  0.0  0.0  0.0  0.0  0.0  0.0  ...  0.0   \n",
       "218112   75.0    80000.0  0.0  0.0  0.0  0.0  0.0  0.0  1.0  1.0  ...  0.0   \n",
       "218113  125.0   150000.0  0.0  0.0  0.0  0.0  0.0  0.0  0.0  1.0  ...  0.0   \n",
       "218114  193.0   150000.0  0.0  0.0  0.0  1.0  0.0  0.0  0.0  0.0  ...  0.0   \n",
       "218115  160.0   150000.0  0.0  0.0  1.0  0.0  0.0  0.0  0.0  1.0  ...  0.0   \n",
       "\n",
       "        386  387  388  389  390  391  392  393  394  \n",
       "0       0.0  0.0  1.0  0.0  0.0  0.0  0.0  0.0  0.0  \n",
       "1       0.0  0.0  0.0  0.0  0.0  1.0  0.0  0.0  0.0  \n",
       "2       0.0  0.0  0.0  0.0  0.0  1.0  0.0  0.0  1.0  \n",
       "3       0.0  0.0  1.0  0.0  0.0  0.0  0.0  0.0  1.0  \n",
       "4       0.0  0.0  0.0  0.0  0.0  0.0  1.0  0.0  1.0  \n",
       "...     ...  ...  ...  ...  ...  ...  ...  ...  ...  \n",
       "218111  0.0  0.0  0.0  0.0  0.0  0.0  0.0  0.0  1.0  \n",
       "218112  0.0  0.0  1.0  0.0  0.0  0.0  0.0  0.0  0.0  \n",
       "218113  0.0  0.0  0.0  0.0  1.0  0.0  0.0  0.0  0.0  \n",
       "218114  0.0  0.0  0.0  0.0  0.0  0.0  0.0  1.0  0.0  \n",
       "218115  0.0  0.0  0.0  0.0  0.0  0.0  0.0  1.0  0.0  \n",
       "\n",
       "[218116 rows x 397 columns]"
      ]
     },
     "execution_count": 18,
     "metadata": {},
     "output_type": "execute_result"
    }
   ],
   "source": [
    "prepared_data = pd.merge(nums, cats, left_index=True, right_index=True)\n",
    "prepared_data"
   ]
  },
  {
   "cell_type": "markdown",
   "metadata": {},
   "source": [
    "### Промежуточный комментарий\n",
    "Итак, мы получили данные, с которыми можно работать. Уже предвкушаю, как долго будут обучаться модели... Но как сказал один великий человек, в математике главное честность. А уж если мы можем подготовить данные надлежащим образом, то полениться было бы нечестно.\n",
    "\n",
    "Теперь объединим данные и временно вернем столбец `brand`. Он нужен нам, чтобы провести стратификацию и разделить выборку на train и test."
   ]
  },
  {
   "cell_type": "code",
   "execution_count": 19,
   "metadata": {},
   "outputs": [
    {
     "name": "stdout",
     "output_type": "stream",
     "text": [
      "test_idx: [155731  23455 129508 ...  80404  55652  97616]\n",
      "train_idx: [142346  47702  41710 ... 183767  30780  78404]\n",
      "Размер тестовой выборки: (43624, 397)\n",
      "Размер обучающей выборки: (174492, 397)\n",
      "Датасет разделен на тестовую и обучающие выборки в соотношении 2.0 к 8.0\n"
     ]
    }
   ],
   "source": [
    "brand = df['brand']\n",
    "brand.index = prepared_data.index\n",
    "prepared_data['brand'] = brand\n",
    "#вернули brand\n",
    "\n",
    "target = df['price']\n",
    "target.index = prepared_data.index\n",
    "split = StratifiedShuffleSplit(n_splits = 1, test_size = 0.2, random_state = 42)\n",
    "#создали переменную target из столбца изначального датасета\n",
    "#уточним, что в подготовленных данных нет целевого признака, его отбросил DataFrameSelector\n",
    "\n",
    "for train_idx, test_idx in split.split(prepared_data, prepared_data['brand']):\n",
    "    print('test_idx:',test_idx)\n",
    "    print('train_idx:', train_idx)\n",
    "    features_train = prepared_data.iloc[train_idx].drop('brand', axis = 1)\n",
    "    target_train = target.iloc[train_idx]\n",
    "    features_test = prepared_data.iloc[test_idx].drop('brand', axis = 1)\n",
    "    target_test = target.iloc[test_idx]\n",
    "    \n",
    "print('Размер тестовой выборки:', features_test.shape)\n",
    "print('Размер обучающей выборки:', features_train.shape)\n",
    "print('Датасет разделен на тестовую и обучающие выборки в соотношении',\n",
    "      round(features_test.shape[0] / df.shape[0], 3) * 10,'к', \n",
    "      round(features_train.shape[0] / df.shape[0], 3) * 10)"
   ]
  },
  {
   "cell_type": "code",
   "execution_count": 20,
   "metadata": {},
   "outputs": [],
   "source": [
    "pipeline_num_2 = Pipeline([\n",
    "    ('num_selector', DataFrameSelector(num_names)),\n",
    "    ('std_scaler', StandardScaler())\n",
    "])\n",
    "features_train[num_names] = pipeline_num_2.fit_transform(features_train)\n",
    "features_test[num_names] = pipeline_num_2.transform(features_test)"
   ]
  },
  {
   "cell_type": "markdown",
   "metadata": {},
   "source": [
    "## Обучение моделей - 1\n",
    "Итак, мы \"по максимуму\" обработали данные, разделили их на обучающую и тестовую выборки. Теперь мы готовы к обучению и тюнингу моделей. В этом нам поможет RandomizedSearchCV. "
   ]
  },
  {
   "cell_type": "code",
   "execution_count": 21,
   "metadata": {},
   "outputs": [],
   "source": [
    "#создаем пустые модели\n",
    "best_lreg = LinearRegression(normalize = False)\n",
    "tree = DecisionTreeRegressor(random_state = 42)\n",
    "forest = RandomForestRegressor(random_state = 42)\n",
    "\n",
    "categories = features_train.drop(num_names, axis = 1).columns.values\n",
    "sgb = LGBMRegressor(random_state = 42, n_jobs = -1, silent = True, categorical_feature = categories)\n",
    "\n",
    "#формируем сетки гиперпараметров\n",
    "tree_grid = {'max_depth': range(1, 50)}\n",
    "forest_grid = {'max_depth': range(1, 30), 'n_estimators': range(1, 150, 10)}\n",
    "sgb_grid = {'n_estimators': range(1, 200, 10), 'max_depth': range(1, 50), \n",
    "            'learning_rate': [0, 0.1, 0.2, 0.3, 0.4, 0.5], 'reg_alpha': [0, 0.1, 0.2, 0.3, 0.4, 0.5], \n",
    "            'num_leaves': range(0, 50, 10)}\n",
    "\n",
    "#готовим классы для обучения\n",
    "best_tree = RandomizedSearchCV(tree, n_jobs = -1, n_iter = 9, \n",
    "                               param_distributions = tree_grid, random_state = 42, \n",
    "                               scoring = 'neg_mean_squared_error', cv = 5)\n",
    "best_forest = RandomizedSearchCV(forest, n_jobs = -1, n_iter = 3, \n",
    "                               param_distributions = forest_grid, random_state = 42, \n",
    "                               scoring = 'neg_mean_squared_error', cv = 2)\n",
    "best_sgb  = RandomizedSearchCV(sgb, n_jobs = -1, n_iter = 9, \n",
    "                               param_distributions = sgb_grid, random_state = 42, \n",
    "                               scoring = 'neg_mean_squared_error', cv = 5)"
   ]
  },
  {
   "cell_type": "code",
   "execution_count": 22,
   "metadata": {},
   "outputs": [],
   "source": [
    "import time\n",
    "#ФУНКЦИЯ ДЛЯ АВТОМАТИЗАЦИИ ОБУЧЕНИЯ, ЗАПОМИНАНИЯ МОДЕЛЕЙ И ВЫВОДА ПАРАМЕТРОВ ОБУЧЕНИЯ\n",
    "def learner(estimator, \n",
    "            name, features_train = features_train, \n",
    "            target_train = target_train, \n",
    "            features_test = features_test,\n",
    "            target_test = target_test):\n",
    "    categories = features_train.drop(num_names, axis = 1).columns\n",
    "    model_start = time.time()\n",
    "    estimator.fit(features_train, target_train)\n",
    "\n",
    "    model_end = time.time()\n",
    "    test_predictions = estimator.predict(features_test)\n",
    "    predict_end = time.time()\n",
    "    learning_time = model_end - model_start\n",
    "    predict_time = predict_end - model_end\n",
    "    rmse = mean_squared_error(target_test, test_predictions) ** 0.5\n",
    "    try:\n",
    "        params = estimator.best_params_\n",
    "        print('Подобранные гиперпараметры:', params)\n",
    "        print('Оценка модели', name,' RMSE =', rmse)\n",
    "        print('Время, потраченное на обучение модели:', learning_time, 'сек.')\n",
    "        print('Время, потраченное на инференс:', predict_time)\n",
    "        print()\n",
    "        return pd.Series([estimator, rmse, params , learning_time, predict_time], \n",
    "                         index = ['Модель', 'Гиперпараметры', 'RMSE', 'Время обучения', 'Время инференса'])\n",
    "    except:\n",
    "        params = estimator.get_params()\n",
    "        print('Подобранные гиперпараметры:', params)\n",
    "        print('Оценка модели', name,' RMSE =', rmse)\n",
    "        print('Время, потраченное на обучение модели:', learning_time, 'сек.')\n",
    "        print('Время, потраченное на инференс:', predict_time)\n",
    "        print()\n",
    "        return pd.Series([estimator, rmse, params , learning_time, predict_time], index = ['Модель', 'Гиперпараметры', 'RMSE', 'Время обучения', 'Время инференса'])"
   ]
  },
  {
   "cell_type": "code",
   "execution_count": null,
   "metadata": {},
   "outputs": [
    {
     "name": "stdout",
     "output_type": "stream",
     "text": [
      "Подобранные гиперпараметры: {'copy_X': True, 'fit_intercept': True, 'n_jobs': None, 'normalize': False, 'positive': False}\n",
      "Оценка модели Линейная регрессия  RMSE = 2143.434364677307\n",
      "Время, потраченное на обучение модели: 1.8827762603759766 сек.\n",
      "Время, потраченное на инференс: 0.017799854278564453\n",
      "\n",
      "Подобранные гиперпараметры: {'max_depth': 18}\n",
      "Оценка модели Решающее дерево  RMSE = 2078.2865905753656\n",
      "Время, потраченное на обучение модели: 82.57678008079529 сек.\n",
      "Время, потраченное на инференс: 0.07059407234191895\n",
      "\n"
     ]
    }
   ],
   "source": [
    "models = pd.Series([best_lreg, best_tree, best_forest, best_sgb], \n",
    "                   index = ['Линейная регрессия', 'Решающее дерево', 'Случайный лес', 'Градиентный бустинг'])\n",
    "result_1 = pd.DataFrame(columns = ['Модель','Гиперпараметры' , 'RMSE', 'Время обучения', 'Время инференса'])\n",
    "for idx in ['Линейная регрессия', 'Решающее дерево', 'Случайный лес', 'Градиентный бустинг']:\n",
    "    result_1 = result_1.append(learner(models[idx], idx), ignore_index = True)"
   ]
  },
  {
   "cell_type": "code",
   "execution_count": null,
   "metadata": {},
   "outputs": [],
   "source": [
    "#ПРОВЕРКА НА АДЕКВАТНОСТЬ\n",
    "const_pred = pd.Series(data = target_train.median(), index = target_test.index)\n",
    "print('RMSE константного предсказания =', mean_squared_error(const_pred, target_test) ** 0.5)"
   ]
  },
  {
   "cell_type": "markdown",
   "metadata": {},
   "source": [
    "### Результат\n",
    "Итак, мы получили 4 модели, они хранятся в столбце \"Модель\" объекта DataFrame `result_1`, к нему мы обратимся чуть позже - сейчас нам достаточно выведеенных на экран значений. Итак, по RMSE лучшая модель - случайный лес (1766 евро). Да, много, но проверку на адекватность проходит, причем RMSE нашей модели лучше почти в 3 раза. Если думать, почему модель все же не так точна, как нам бы того хотелось, то тут три варианта:\n",
    "1. У нас нет каких-то важных features. Возможно, выгрузили не все данные, а может быть существуют специфические характеристики ценообразования на рынке автомобилей, которые из сервиса не получишь.\n",
    "2. Данные плохие. Плохие в том смысле, что есть очень много выбросов, систематических включений в данные, которые мы не можем отловить без детального знания о работе сервиса, специфике выгрузки данных, поведении пользователей.\n",
    "3. Ценообразование несистемно. Возможно, цена на автомобиль диктуется не столько характеристиками, сколько волей случая. Тут бы помогло знание о том какие машины проданы, а кикие - нет. И если проданы, то в какой срок. Это бы стало своеобразным фильтром, с помощью которого можно понять, \"принял\" рынок эту цену (адекватна), отверг (завышена) или \"слопал\" за считанные часы (занижена).\n",
    "4. Дело в нас. Возможно, из-за довольно масштабного применения OHE, модели, которые в нем не очень-то нуждаются (лес, дерево и бустинг), стали работать хуже. Попробуем обучить этих ребят на данных после OrdinalEncoder, но без OHE. "
   ]
  },
  {
   "cell_type": "markdown",
   "metadata": {},
   "source": [
    "## Обучение моделей - 2"
   ]
  },
  {
   "cell_type": "code",
   "execution_count": null,
   "metadata": {},
   "outputs": [],
   "source": [
    "target = df['price']\n",
    "\n",
    "cats = df[cat_names]\n",
    "ord_enc = OrdinalEncoder()\n",
    "cats = pd.DataFrame(ord_enc.fit_transform(cats), index = target.index)\n",
    "categories = cats.columns.values\n",
    "\n",
    "features = pd.merge(cats, nums, left_index = True, right_index = True)"
   ]
  },
  {
   "cell_type": "code",
   "execution_count": null,
   "metadata": {},
   "outputs": [],
   "source": [
    "features_train_2, target_train_2 = features.iloc[train_idx], target.iloc[train_idx]\n",
    "features_test_2, target_test_2 = features.iloc[test_idx], target.iloc[test_idx]\n",
    "\n",
    "features_train_2[num_names] = pipeline_num_2.fit_transform(features_train_2)\n",
    "features_test_2[num_names] = pipeline_num_2.transform(features_test_2)\n",
    "\n",
    "sgb = LGBMRegressor(random_state = 42, n_jobs = -1, silent = True, categorical_feature = categories)\n",
    "best_sgb  = RandomizedSearchCV(sgb, n_jobs = -1, n_iter = 9, \n",
    "                               param_distributions = sgb_grid, random_state = 42, \n",
    "                               scoring = 'neg_mean_squared_error', cv = 5)"
   ]
  },
  {
   "cell_type": "code",
   "execution_count": null,
   "metadata": {},
   "outputs": [],
   "source": [
    "models = pd.Series([best_tree, best_forest, best_sgb], \n",
    "                   index = ['Решающее дерево', 'Случайный лес', 'Градиентный бустинг'])\n",
    "result_2 = pd.DataFrame(columns = ['Модель','Гиперпараметры' , 'RMSE', 'Время обучения', 'Время инференса'])\n",
    "for idx in ['Решающее дерево', 'Случайный лес', 'Градиентный бустинг']:\n",
    "    result_2 = result_2.append(learner(estimator = models[idx], \n",
    "                            name = idx, features_train = features_train_2, \n",
    "                            target_train = target_train_2,\n",
    "                            features_test = features_test_2, \n",
    "                            target_test = target_test_2),\n",
    "                    ignore_index = True)"
   ]
  },
  {
   "cell_type": "markdown",
   "metadata": {},
   "source": [
    "### Результат\n",
    "Итак, расклад поменялся. Градиентный вышел в лидеры, с RMSE = 1636 евро. Немного лучше, но не критически. Зато модель стала значительно бысрее обучаться. Посмотрим, что у нас есть в результате, убедимся в своей правоте и приблизимся к концу."
   ]
  },
  {
   "cell_type": "code",
   "execution_count": null,
   "metadata": {},
   "outputs": [],
   "source": [
    "for result in result_1, result_2:\n",
    "    result.columns = ['Модель', \"RMSE\", 'Гиперпараметры', 'Время обучения', 'Время инференса']\n",
    "\n",
    "result_1.index = ['Линейная регрессия', 'Решающее дерево', 'Случайный лес', 'Градиентный бустинг']\n",
    "result_2.index = ['Решающее дерево', 'Случайный лес', 'Градиентный бустинг']\n",
    "\n",
    "display(result_1.drop(['Модель', 'Гиперпараметры'], axis = 1))\n",
    "display(result_2.drop(['Модель', 'Гиперпараметры'], axis = 1))"
   ]
  },
  {
   "cell_type": "code",
   "execution_count": null,
   "metadata": {},
   "outputs": [],
   "source": [
    "best_model = result_2['Модель']['Градиентный бустинг']\n",
    "best_result = result_2.loc['Градиентный бустинг', :].drop('Модель')\n",
    "best_result"
   ]
  },
  {
   "cell_type": "markdown",
   "metadata": {},
   "source": [
    "## Выводы\n",
    "Лучшая модель - градиентный бустинг. Сохранили ее в переменной `best_model`. Что ж, печально, что не удалось добиться реально крутого значения RMSE. Видимо, один или несколько пунктов из предыдущего раздела реализовались слихвой. Но радует, что модель легко проходит проверку на адекватность! "
   ]
  }
 ],
 "metadata": {
  "kernelspec": {
   "display_name": "Python 3",
   "language": "python",
   "name": "python3"
  },
  "language_info": {
   "codemirror_mode": {
    "name": "ipython",
    "version": 3
   },
   "file_extension": ".py",
   "mimetype": "text/x-python",
   "name": "python",
   "nbconvert_exporter": "python",
   "pygments_lexer": "ipython3",
   "version": "3.7.10"
  },
  "toc": {
   "base_numbering": 1,
   "nav_menu": {},
   "number_sections": true,
   "sideBar": true,
   "skip_h1_title": false,
   "title_cell": "Table of Contents",
   "title_sidebar": "Contents",
   "toc_cell": false,
   "toc_position": {},
   "toc_section_display": true,
   "toc_window_display": false
  }
 },
 "nbformat": 4,
 "nbformat_minor": 4
}
